{
 "cells": [
  {
   "cell_type": "markdown",
   "id": "748c3603",
   "metadata": {},
   "source": [
    "# Making plots in Python  \n",
    "*Pyplot* is a library of functions for making plots in Python. The default plots are okay, but you're able to customize virtually any aspect of the formatting if you want.\n",
    "\n",
    "First, you'll need to *import* the part of the matplotlib module the contains pyplot to use its functions. If you forget, the code below with output errors when it doesn't recognize a function it's trying to access (because it wasn't imported). "
   ]
  },
  {
   "cell_type": "code",
   "execution_count": null,
   "id": "1d8a2a9b",
   "metadata": {},
   "outputs": [],
   "source": [
    "import matplotlib.pyplot as plt"
   ]
  },
  {
   "cell_type": "markdown",
   "id": "5a74d543",
   "metadata": {},
   "source": [
    "The notebook uses [Allison Horst](https://www.allisonhorst.com/)'s penguin data, but you can use these examples with any pandas dataframe.  "
   ]
  },
  {
   "cell_type": "code",
   "execution_count": null,
   "id": "df3a6c31",
   "metadata": {},
   "outputs": [],
   "source": [
    "# so we can read in data\n",
    "import pandas as pd\n",
    "\n",
    "# this reads in a data file\n",
    "penguins = pd.read_csv('https://github.com/mwaskom/seaborn-data/raw/master/penguins.csv')\n",
    "\n",
    "# this shows the first few rows of the dataframe\n",
    "penguins.head(3)"
   ]
  },
  {
   "cell_type": "markdown",
   "id": "c6ab1d40",
   "metadata": {},
   "source": [
    "Now that pyplot is imported and there's a dataframe called \"penguins\", you can make plots of the data in one or more columns by referencing the **dataframe** along with the **column heading** in single quotes surrounded by square brackets. All of that is case-sensitive, too. Here's an example of how to refernce the data in a column of a dataframe:  \n",
    "\n",
    "penguins['flipper_length_mm']  \n",
    "\n",
    "[Pyplot's .hist( )](https://matplotlib.org/stable/api/_as_gen/matplotlib.pyplot.hist.html) function makes a histogram of a single column of values. That's a common way to visualize the distribution of a set of measurement. Here's a histogram of that same column in the dataframe.  "
   ]
  },
  {
   "cell_type": "code",
   "execution_count": null,
   "id": "68379cea",
   "metadata": {},
   "outputs": [],
   "source": [
    "plt.hist(penguins['flipper_length_mm'])    # makes a histogram\n",
    "plt.show()         # shows the plot (without other output we don't need)"
   ]
  },
  {
   "cell_type": "markdown",
   "id": "c8d0c5e6",
   "metadata": {},
   "source": [
    "How does the histogram look? If you got an error, things to check are:  \n",
    "- Did you import pyplot first?  \n",
    "- Did you import pandas and read in the data?  \n",
    "- Did you edit the code and lose a single quote, bracket, period, ot something else?  \n",
    "\n",
    "When you're ready, run the code below and try editing it until you're satisfied with the formatting."
   ]
  },
  {
   "cell_type": "code",
   "execution_count": null,
   "id": "8d5661a7",
   "metadata": {},
   "outputs": [],
   "source": [
    "plt.hist(penguins['flipper_length_mm'], bins=10, histtype='bar')    # makes a histogram\n",
    "plt.title(\"here's a title!\")\n",
    "plt.xlabel(\"label me\")\n",
    "plt.ylabel(\"frequency\")\n",
    "plt.show()"
   ]
  },
  {
   "cell_type": "markdown",
   "id": "c7cc48f6",
   "metadata": {},
   "source": [
    "You can compare distributions of two two or more sets of data in the same histogram by adding more plt.hist( ) functions in the same block of code. Here's an example."
   ]
  },
  {
   "cell_type": "code",
   "execution_count": null,
   "id": "fe5cf635",
   "metadata": {},
   "outputs": [],
   "source": [
    "plt.hist(penguins['flipper_length_mm'], color='purple', label=\"flippers\")\n",
    "plt.hist(penguins['bill_length_mm'], color='pink', label=\"bills\")\n",
    "plt.legend()         # legends uses the labels in each .hist() line above\n",
    "plt.show()"
   ]
  },
  {
   "cell_type": "markdown",
   "id": "3e760bd4",
   "metadata": {},
   "source": [
    "See the [Pyplot.hist( )](https://matplotlib.org/stable/api/_as_gen/matplotlib.pyplot.hist.html) page for more ways to customize your plots.  \n",
    "\n",
    "A scatterlplot is a common way to see how two sets of measurements are related. That requires two columns to be referenced, but the rest of the formatting works similarly to what's above.  "
   ]
  },
  {
   "cell_type": "code",
   "execution_count": null,
   "id": "749ed633",
   "metadata": {},
   "outputs": [],
   "source": [
    "# first column is plotted on x, second is y\n",
    "plt.scatter(penguins['flipper_length_mm'], penguins['bill_length_mm'])\n",
    "plt.show()"
   ]
  },
  {
   "cell_type": "markdown",
   "id": "ab553ec5",
   "metadata": {},
   "source": [
    "Here's a scatterplot with more formatting.  "
   ]
  },
  {
   "cell_type": "code",
   "execution_count": null,
   "id": "a71099a1",
   "metadata": {},
   "outputs": [],
   "source": [
    "plt.scatter(penguins['flipper_length_mm'], penguins['bill_length_mm'], color='chartreuse', label=\"length\")\n",
    "plt.scatter(penguins['flipper_length_mm'], penguins['bill_depth_mm'], color='pink', label=\"depth\")\n",
    "plt.xlim(150,250)     # ordered pair for lower and upper limit\n",
    "plt.ylim(0,70)        # ordered pair for lower and upper limit\n",
    "plt.title(\"here's a title!\")\n",
    "plt.xlabel(\"label me\")\n",
    "plt.ylabel(\"so lonely\")\n",
    "plt.legend()\n",
    "plt.grid()\n",
    "plt.show()"
   ]
  },
  {
   "cell_type": "markdown",
   "id": "12f84d0f",
   "metadata": {},
   "source": [
    "## Credits\n",
    "This notebook was designed by [Adam LaMee](https://adamlamee.github.io/). The penguin data came from [Allison Horst](https://www.allisonhorst.com/) in R format and made into a csv for Seabon use by [Michael Waskom](https://github.com/mwaskom/seaborn). Thanks to the great folks at [Binder](https://mybinder.org/) and [Google Colaboratory](https://colab.research.google.com/notebooks/intro.ipynb) for making this notebook interactive without you needing to download it or install [Jupyter](https://jupyter.org/) on your own device."
   ]
  }
 ],
 "metadata": {
  "kernelspec": {
   "display_name": "Python 3 (ipykernel)",
   "language": "python",
   "name": "python3"
  },
  "language_info": {
   "codemirror_mode": {
    "name": "ipython",
    "version": 3
   },
   "file_extension": ".py",
   "mimetype": "text/x-python",
   "name": "python",
   "nbconvert_exporter": "python",
   "pygments_lexer": "ipython3",
   "version": "3.9.7"
  }
 },
 "nbformat": 4,
 "nbformat_minor": 5
}
