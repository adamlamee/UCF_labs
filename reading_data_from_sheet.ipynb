{
 "cells": [
  {
   "cell_type": "markdown",
   "metadata": {},
   "source": [
    "# Reading a data file from a Google Sheet    \n",
    "*Pandas* is a Python module (e.g., library of functions) for working with tabular data similar to a spreadsheet. An advantage is the ability to automate analyses in a way that spreadsheets require clicking and typing to repeat. Python can also handle significantly larger data sets than most spreadsheet software.  \n",
    "\n",
    "First, you'll need to *import* the pandas module to use its functions. If you forget, the code below with output errors when it doesn't recognize a function it's trying to access (because it wasn't imported). "
   ]
  },
  {
   "cell_type": "code",
   "execution_count": null,
   "metadata": {},
   "outputs": [],
   "source": [
    "# you only need to run this once, but it doesn't break anyting to run it multiple times\n",
    "import pandas as pd"
   ]
  },
  {
   "cell_type": "markdown",
   "metadata": {},
   "source": [
    "Pandas will need you data file to have column headings along with your data. It's easier if those column heading are in the first row, but you'll see how to get around that below.  \n",
    "\n",
    "- Save a .csv or spreadsheet file to Google Drive.  \n",
    "- Open the file in Google Sheets (right-click for options) then go to File > save as Google Sheet. Oddly, this won't work for the original file, **only** the file saved as a Sheet.\n",
    "- Get the view-only link to the file. It'll look something like this:  \n",
    "  https://docs.google.com/blah-blah/edit?usp=sharing  \n",
    "- Replace the last part with \"export\", like this:  \n",
    "  https://docs.google.com/blah-blah/export  \n",
    "- Use pd.read_excel function to open it (not read_csv):  \n",
    "  pd.read_excel('https://docs.google.com/blah-blah/export')\n",
    "- Paste that path as the URL in the pd.read fucntion below with *single quotes* around it.  \n",
    "\n",
    "To read in a shared Google Sheet, see the example below.  "
   ]
  },
  {
   "cell_type": "code",
   "execution_count": null,
   "metadata": {},
   "outputs": [],
   "source": [
    "# this reads in a file you just uploaded\n",
    "data = pd.read_excel('paste_the_URL_to_your_file_here', skiprows=0)\n",
    "\n",
    "# the .head() command gives a preview of the first few rows of the dataframe\n",
    "data.head(3)"
   ]
  },
  {
   "cell_type": "markdown",
   "metadata": {},
   "source": [
    "How does the preview of the dataframe look? It should show column headings with a few rows of the data. If you got an error, things to check are:  \n",
    "- Did you import pandas first?  \n",
    "- Does the URL you pasted into the read function have single quotes around it? It should look like pd.read_excel('URL')  \n",
    "- Is the sharing link to the Google Sheet set to 'anyone with link' can view?  \n",
    "- Are you trying to read in a shared Google Sheet? It work with a shared link to a spreadsheet file in Drive. Double-check in Drive by selecting 'open as Google Sheet' which will create a new Google Sheet in your Drive.  \n",
    "\n",
    "\n",
    "If there isn't an error but the dataframe doesn't start with the column headings, adjust the *skiprows* parameter and run the code again until it looks right. If you have a .csv file, use the [.read_csv( ) function](https://pandas.pydata.org/docs/reference/api/pandas.read_csv.html) instead. Here's an example."
   ]
  },
  {
   "cell_type": "markdown",
   "metadata": {},
   "source": [
    "<hr/>  \n",
    "\n",
    "# Credits\n",
    "This notebook was written by [Adam LaMee](http://www.adamlamee.com). Thanks to the great folks at [Binder](https://mybinder.org/) and [Google Colaboratory](https://colab.research.google.com/notebooks/intro.ipynb) for making this notebook interactive without you needing to download it or install [Jupyter](https://jupyter.org/) on your own device."
   ]
  }
 ],
 "metadata": {
  "kernelspec": {
   "display_name": "Python 3 (ipykernel)",
   "language": "python",
   "name": "python3"
  },
  "language_info": {
   "codemirror_mode": {
    "name": "ipython",
    "version": 3
   },
   "file_extension": ".py",
   "mimetype": "text/x-python",
   "name": "python",
   "nbconvert_exporter": "python",
   "pygments_lexer": "ipython3",
   "version": "3.9.7"
  }
 },
 "nbformat": 4,
 "nbformat_minor": 4
}
