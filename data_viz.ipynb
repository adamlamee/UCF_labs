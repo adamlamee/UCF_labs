{
 "cells": [
  {
   "cell_type": "markdown",
   "id": "a330c835",
   "metadata": {},
   "source": [
    "If you're running this in Google Colab, you can click \"Copy to Drive\" (above &#8593;) or go to **File > Save a Copy in Drive** so you'll have your own version to work on. That requires a Google login.  \n",
    "<hr/>\n",
    "\n",
    "# Data Visualization in Python   \n",
    "How you visualize your data can make a big difference in what gets communicated to your intended audience. This notebook is a tutorial for using Python to visualize tabular data with annotations.\n",
    "\n",
    "If you need to start over from scratch, open a [clean copy of this activity](https://colab.research.google.com/github/adamlamee/UCF_labs/blob/master/data_viz.ipynb). If you need a refresher on how to execute this notebook, try the [Jupyter practice activity](https://colab.research.google.com/github/adamlamee/UCF_labs/blob/master/Jupyter_practice.ipynb).  \n",
    "\n",
    "## Reading in a data set  \n",
    "The code below first imports some 'modules' which are useful libraries of functions. Then, it reads in a sample data file to practice plotting."
   ]
  },
  {
   "cell_type": "code",
   "execution_count": null,
   "id": "c7a6a3ce",
   "metadata": {},
   "outputs": [],
   "source": [
    "# run this code to import the libraries of functions (aka 'modules') used later\n",
    "import pandas as pd                  # pandas handles data tables\n",
    "import numpy as np                   # numpy does math\n",
    "import matplotlib.pyplot as plt      # pyplot makes plots"
   ]
  },
  {
   "cell_type": "code",
   "execution_count": null,
   "id": "1fedb6b9",
   "metadata": {},
   "outputs": [],
   "source": [
    "# this reads in sample data\n",
    "data = pd.read_csv('https://github.com/adamlamee/UCF_labs/raw/main/data/motion_v2.csv')\n",
    "\n",
    "# the .head() command gives a preview of the first few rows of the dataframe\n",
    "data.head(3)"
   ]
  },
  {
   "cell_type": "code",
   "execution_count": null,
   "id": "92de5f3b",
   "metadata": {},
   "outputs": [],
   "source": [
    "# displays the number of (rows,columns) in the data set\n",
    "data.shape"
   ]
  },
  {
   "cell_type": "markdown",
   "id": "3c9e4627",
   "metadata": {},
   "source": [
    "### Self-check  \n",
    "See the output of the code above to answer these questions.\n",
    "- How big in this data set?\n",
    "- Try editing the data.head() line to dipslay 10 rows.\n",
    "- Can you determine anything about the object's motion from data table above?  \n",
    "\n",
    "## Making a simple plot  \n",
    "The code below shows how to make a simple scatterplot of the data table above.  "
   ]
  },
  {
   "cell_type": "code",
   "execution_count": null,
   "id": "52edc490",
   "metadata": {},
   "outputs": [],
   "source": [
    "# some plot formatting examples\n",
    "plt.scatter(data['Time (s)'], data['Position (m)'], color='black', marker='o', alpha=.1)\n",
    "plt.xlabel(\"time (s)\")\n",
    "plt.ylabel(\"label me!\")\n",
    "plt.title(\"titles are hard\")\n",
    "plt.show();"
   ]
  },
  {
   "cell_type": "markdown",
   "id": "1cb5f4b3",
   "metadata": {},
   "source": [
    "### Self-check  \n",
    "Try editing the code above to do the following.  \n",
    "- Change the title to \"motion analysis\" and re-run the code to see your new graph.\n",
    "- Change the color of the points. Here's the list of [matplotlib named colors](https://matplotlib.org/stable/gallery/color/named_colors.html).\n",
    "- Give the y-axis a better label.\n",
    "- The parameter 'alpha' can be set between 0 and 1. Try changing it to determine what the alpha parameter does. After that, you can check yourself by looking at the [plt.scatter( ) documentation](https://matplotlib.org/stable/api/_as_gen/matplotlib.pyplot.scatter.html).\n",
    "\n",
    "## Advanced plotting with Matplotlib\n",
    "You just practiced making a simple scatterplot. That's handy when you just need a quick plot without much customizing. Matplotlib also has an 'object-oriented' interface for more complex styling and layout. Run teh code below to see an example.  "
   ]
  },
  {
   "cell_type": "code",
   "execution_count": null,
   "id": "b02f4298",
   "metadata": {},
   "outputs": [],
   "source": [
    "fig, ax = plt.subplots(3, 2, figsize=(8,8))        # that's (2 rows, 2 cols) ... four subplots\n",
    "fig.subplots_adjust(hspace=0.5)     # make a little extra space between the subplots\n",
    "\n",
    "# ax[0,0] is for the graph in row 0 column 0\n",
    "ax[0,0].scatter(data['Time (s)'], data['Position (m)'], color= 'chartreuse', label='one', linestyle=\"--\")   # makes a linepolt of the model\n",
    "ax[0,0].legend()\n",
    "\n",
    "# ax[1,0] is for the graph in row 1 column 0\n",
    "ax[1,0].set_title(\"this is a title\") # set an individual parameter\n",
    "ax[1,0].annotate('there is nothing here', xy=(.5, .5), xytext=(.2, .7), arrowprops=dict(facecolor='black', arrowstyle=\"->\"))\n",
    "ax[1,0].spines['right'].set_visible(False)\n",
    "ax[1,0].spines['bottom'].set_color('#565656')\n",
    "\n",
    "# and labels\n",
    "ax[0,1].set(xlabel=\"some label\", ylabel=\"other label\", title=\"a title?\")  # set several parameters in one line\n",
    "ax[0,1].set_xlim(2,5)\n",
    "ax[0,1].xaxis.set_ticks_position('none')\n",
    "ax[0,1].tick_params(labelcolor='grey')\n",
    "ax[0,1].grid(color='#565656', axis='y', linestyle='-', linewidth=0.25, alpha=0.5)\n",
    "\n",
    "# and a horizontal line!\n",
    "ax[1,1].axhline(.5, color='purple')\n",
    "ax[1,1].text(.5, .2, \"text!\")\n",
    "\n",
    "# ax[2,0]\n",
    "\n",
    "# ax[2,1]\n",
    "\n",
    "# and finally ...\n",
    "plt.show()"
   ]
  },
  {
   "cell_type": "markdown",
   "id": "31626d87",
   "metadata": {},
   "source": [
    "### Milestone 2  \n",
    "Each member in your group will customize one of the graphs above. If you're physically together, take turns with who holds the keyboard and mouse. If you're remote, you can designate one person to make the edits that the other group members dictate. Experiment with the code above to do the following. When you're finished, copy the image of your finished plots into your lab document to submit (it's all one single image).  \n",
    "\n",
    "- Give each graph a title indicating the name of a group member whose plot that is.  \n",
    "- Add a scatterplot to your graph. You can choose which columns to plot.\n",
    "- Give your graph unique colors and styling. Some examples are already in the code above.\n",
    "- Add an annotation to describe something about the object's motion.\n",
    "\n",
    "Want even more ideas? See the [matplotlib cheat sheets](https://github.com/matplotlib/cheatsheets/blob/master/README.md).\n",
    "\n",
    "## Credits\n",
    "This notebook was designed by [Adam LaMee](https://adamlamee.github.io/). Thanks to the great folks at [Binder](https://mybinder.org/) and [Google Colaboratory](https://colab.research.google.com/notebooks/intro.ipynb) for making this notebook interactive without you needing to download it or install [Jupyter](https://jupyter.org/) on your own device."
   ]
  }
 ],
 "metadata": {
  "kernelspec": {
   "display_name": "Python 3 (ipykernel)",
   "language": "python",
   "name": "python3"
  },
  "language_info": {
   "codemirror_mode": {
    "name": "ipython",
    "version": 3
   },
   "file_extension": ".py",
   "mimetype": "text/x-python",
   "name": "python",
   "nbconvert_exporter": "python",
   "pygments_lexer": "ipython3",
   "version": "3.9.15"
  }
 },
 "nbformat": 4,
 "nbformat_minor": 5
}
