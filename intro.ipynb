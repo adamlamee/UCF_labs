{
 "cells": [
  {
   "cell_type": "markdown",
   "metadata": {
    "colab_type": "text",
    "id": "gFcsa6oKKgGt"
   },
   "source": [
    "If you're running this in Google Colab, you can click \"Copy to Drive\" (above &#8593;) or go to **File > Save a Copy in Drive** so you'll have your own version to work on. That requires a Google login.  \n",
    "<hr/>\n",
    "\n",
    "# Part 1: Running Python code  \n",
    "There are two ways to run the code below:\n",
    "- press SHIFT and ENTER at the same time\n",
    "- click on the play button (&#9658;) to the left of the code  \n",
    "\n",
    "Click \"run anyway\" on the popup window. It happens the first time you run this code telling you it loads from GitHub (it's totally safe, that's why we use it). \n",
    "\n",
    "Run each block of code to see what it does. Look for *comments* that start with #. If you need to start over from scratch, open the [original activity here](https://colab.research.google.com/github/adamlamee/UCF_labs/blob/master/intro.ipynb).  "
   ]
  },
  {
   "cell_type": "code",
   "execution_count": null,
   "metadata": {
    "colab": {},
    "colab_type": "code",
    "id": "UTkmNnoadCOR"
   },
   "outputs": [],
   "source": [
    "1+1     # run this block of code to see the answer to 1+1"
   ]
  },
  {
   "cell_type": "code",
   "execution_count": null,
   "metadata": {
    "colab": {},
    "colab_type": "code",
    "id": "Zra5XaIuFxXx"
   },
   "outputs": [],
   "source": [
    "10/5    # Python is a coding language that can do math. Yay!"
   ]
  },
  {
   "cell_type": "code",
   "execution_count": null,
   "metadata": {
    "colab": {},
    "colab_type": "code",
    "id": "a08YbU6KF5jS"
   },
   "outputs": [],
   "source": [
    "# This is a comment. Python doesn't read lines that start with #\n",
    "\n",
    "2*3   # a comment can come after code on the same line, too"
   ]
  },
  {
   "cell_type": "markdown",
   "metadata": {
    "colab_type": "text",
    "id": "akBt4UjuF_Cd"
   },
   "source": [
    "**Challenge**  \n",
    "- Try to edit the code above to solve a different math problem, like **4 times 5**. You'll have to run the block of code again to see the new answer.  \n",
    "\n",
    "<hr/>\n",
    "\n",
    "# Part 2: Order is everything \n",
    "A program works in a sequence. Running code out of order often won't work.\n"
   ]
  },
  {
   "cell_type": "code",
   "execution_count": null,
   "metadata": {
    "colab": {},
    "colab_type": "code",
    "id": "2DiPkRuSF7Nl"
   },
   "outputs": [],
   "source": [
    "a = 5   # this line creates a variable called \"a\" and sets it equal to 5\n",
    "a*2     # this line multiplies a times 2. If a=5, then we should get 10 below for the answer"
   ]
  },
  {
   "cell_type": "code",
   "execution_count": null,
   "metadata": {
    "colab": {},
    "colab_type": "code",
    "id": "dsAvgo1SGOpS"
   },
   "outputs": [],
   "source": [
    "2*b # we didn't tell the program what b equals, so this gives an error"
   ]
  },
  {
   "cell_type": "code",
   "execution_count": null,
   "metadata": {
    "colab": {},
    "colab_type": "code",
    "id": "uzVo9uLKGQJ_"
   },
   "outputs": [],
   "source": [
    "b=3 # running this code will tell the program what b equals. Then, try running the block of code above again."
   ]
  },
  {
   "cell_type": "markdown",
   "metadata": {
    "colab_type": "text",
    "id": "78-GOO5SGU6J"
   },
   "source": [
    "**Challenge**\n",
    "- Write a math problem using only variables, no numbers, like **a times b**.  \n",
    "- Write a math problem using +, -, *, /, and (  ).\n",
    "- Create another variable and multiply it by **a**.  \n",
    "\n",
    "<hr/>\n",
    "\n",
    "# Part 3: Importing modules  \n",
    "The Python language can do some math by itself. To do more complex tasks, we have to import other software called *modules*."
   ]
  },
  {
   "cell_type": "code",
   "execution_count": null,
   "metadata": {
    "colab": {},
    "colab_type": "code",
    "id": "3w5FcXQwGSSF"
   },
   "outputs": [],
   "source": [
    "# numpy is a module to let you do numerical operations in Python\n",
    "import numpy"
   ]
  },
  {
   "cell_type": "code",
   "execution_count": null,
   "metadata": {
    "colab": {},
    "colab_type": "code",
    "id": "SUN5b606GfGK"
   },
   "outputs": [],
   "source": [
    "# numpy has a function called \"sqrt\" that calculates the square root of a number\n",
    "numpy.sqrt(9)   # what's the square root of 9?"
   ]
  },
  {
   "cell_type": "code",
   "execution_count": null,
   "metadata": {
    "colab": {},
    "colab_type": "code",
    "id": "9MUd-bIPGsIp"
   },
   "outputs": [],
   "source": [
    "# you can give modules a nickame when you import them, too\n",
    "\n",
    "import numpy as np   # now you can type \"np\" instead of \"numpy\"\n",
    "np.sqrt(4)           # what's the square root of 4?"
   ]
  },
  {
   "cell_type": "code",
   "execution_count": null,
   "metadata": {
    "colab": {},
    "colab_type": "code",
    "id": "kLSGKEt-G3-L"
   },
   "outputs": [],
   "source": [
    "# some modules have long names, so a nickname is handy\n",
    "\n",
    "import matplotlib.pyplot as plt         # \"plt\" is much shorter\n",
    "plt.scatter([1,2,3,4,5], [0,1,3,4,2], color='pink', edgecolor='blue');   # this makes a scatterplot!"
   ]
  },
  {
   "cell_type": "markdown",
   "metadata": {},
   "source": [
    "**Challenge**\n",
    "- Change the colors of the graph to green and black.\n",
    "- Numpy has a function called *round* that will round a decimal number. Try using it like you used the *sqrt* function.  \n",
    "\n",
    "# Part 4: Markdown  \n",
    "The text in this notebook that isn't code, like this sentence, is called *markdown*. You can double-click on this text to see the markdown code underneath. Like usual, press SHIFT+ENTER to turn the markdown code into pretty, formatted text again. Markdown lets us write text with formatting like:  \n",
    "- bullet lists  \n",
    "- *italics*  \n",
    "- **bold** text\n",
    "- section headings  \n",
    "- [links](https://xkcd.com/665/)\n",
    "- images  \n",
    "\n",
    "![cute kitten](https://github.com/adamlamee/CODINGinK12/raw/master/notebooks/1dayoldkitten.png) \n",
    "\n",
    "**Challenge**\n",
    "- Make this sentence bold.  \n",
    "- Make this sentence in italics.  \n",
    "- Add a 4th bullet point below this one   \n",
    "\n",
    "\n",
    "<hr/>  \n",
    "\n",
    "# Credits\n",
    "This notebook was written by [Adam LaMee](http://www.adamlamee.com). Thanks to the great folks at [Binder](https://mybinder.org/) and [Google Colaboratory](https://colab.research.google.com/notebooks/intro.ipynb) for making this notebook interactive without you needing to download it or install [Jupyter](https://jupyter.org/) on your own device."
   ]
  }
 ],
 "metadata": {
  "kernelspec": {
   "display_name": "Python 3",
   "language": "python",
   "name": "python3"
  },
  "language_info": {
   "codemirror_mode": {
    "name": "ipython",
    "version": 3
   },
   "file_extension": ".py",
   "mimetype": "text/x-python",
   "name": "python",
   "nbconvert_exporter": "python",
   "pygments_lexer": "ipython3",
   "version": "3.7.7"
  }
 },
 "nbformat": 4,
 "nbformat_minor": 1
}
