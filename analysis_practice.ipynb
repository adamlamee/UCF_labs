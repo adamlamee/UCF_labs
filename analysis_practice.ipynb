{
 "cells": [
  {
   "cell_type": "markdown",
   "metadata": {},
   "source": [
    "If you're running this in Google Colab, you can click \"Copy to Drive\" (above &#8593;) or go to **File > Save a Copy in Drive** so you'll have your own version to work on. That requires a Google login.  \n",
    "<hr/>\n",
    "\n",
    "# Analyzing data from a file  \n",
    "This Jupyter notebook is a template for analyzing data from a file using Python. If you need to start over from scratch, open a [clean copy of this activity](https://colab.research.google.com/github/adamlamee/UCF_labs/blob/main/analysis_practice.ipynb). If you need a refresher on how to execute this notebook, try the [intro activity](https://colab.research.google.com/github/adamlamee/UCF_labs/blob/main/intro.ipynb).  \n",
    "\n",
    "## Step 1: Import modules (aka libraries of functions) needed for the analysis"
   ]
  },
  {
   "cell_type": "code",
   "execution_count": null,
   "metadata": {},
   "outputs": [],
   "source": [
    "# first, import the python modules needed for the analysis\n",
    "import pandas as pd\n",
    "import numpy as np\n",
    "import matplotlib as mpl\n",
    "import matplotlib.pyplot as plt"
   ]
  },
  {
   "cell_type": "markdown",
   "metadata": {},
   "source": [
    "## Step 2: Read in the data file\n",
    "You have a few of options to read in a data file. Two convenient ones are (1) upload it here or (2) put a copy in a Google Drive, then use the sharing link to open in here.\n",
    "\n",
    "### Option A: Upload a file directly to this Colab notebook  \n",
    "This only lasts for the duration of running this notebook. You'll need to repeat this if you close the notebook and come back to it later.\n",
    "\n",
    "- In Colab, click the folder icon in left menu. It's below the {x}.\n",
    "- Click the upload icon at top of that window.\n",
    "- Wait until you see the filename appear in the directory on the left. Then, \n",
    "- Right-click on the filename or click the 3 vertical dots at the end of the filename to \"copy path\"\n",
    "- Paste that path as the URL in the pd.read fucntion below with *single quotes* around it.  \n",
    "\n",
    "### Option B: Use a shared link from a Google Sheet  \n",
    "This is good for collaboration since it works for anyone with the link to the shared data file.  \n",
    "\n",
    "- Save the .csv or spreadsheet data file to Google Drive.  \n",
    "- Open the file in Google Sheets (right-click for options). Oddly, this won' twork for the original file, only the file saved as a Sheet.\n",
    "- Get the view-only link to the file. It'll look something like this:  \n",
    "  https://docs.google.com/blah-blah/edit?usp=sharing  \n",
    "- Replace the last part with \"export\", like this:  \n",
    "  https://docs.google.com/blah-blah/export  \n",
    "- Use pd.read_excel function to open it (not read_csv):  \n",
    "  pd.read_excel('https://docs.google.com/blah-blah/export')\n",
    "- Paste that path as the URL in the pd.read fucntion below with *single quotes* around it.  "
   ]
  },
  {
   "cell_type": "code",
   "execution_count": null,
   "metadata": {},
   "outputs": [],
   "source": [
    "# for option A above: use pd.read_csv if you're uploading a csv file\n",
    "# or use pd.read_excel if you uploaded a .xlsx file (reading .xls files require more work than this)\n",
    "data = pd.read_csv('URL_to_file')"
   ]
  },
  {
   "cell_type": "code",
   "execution_count": null,
   "metadata": {},
   "outputs": [],
   "source": [
    "# for option B above: use pd.read_excel if you're opening a Google Sheet\n",
    "data = pd.read_excel('sharing_link')"
   ]
  },
  {
   "cell_type": "markdown",
   "metadata": {},
   "source": [
    "## Step 3: Explore the data  \n",
    "These are some examples of ways to look at your data."
   ]
  },
  {
   "cell_type": "code",
   "execution_count": null,
   "metadata": {},
   "outputs": [],
   "source": [
    "# shows the number of rows, columns in the data table\n",
    "data.shape"
   ]
  },
  {
   "cell_type": "code",
   "execution_count": null,
   "metadata": {},
   "outputs": [],
   "source": [
    "# Check to see what the data file looks like. The .head() command displays the first n rows of a file.\n",
    "data.head(3)"
   ]
  },
  {
   "cell_type": "code",
   "execution_count": null,
   "metadata": {},
   "outputs": [],
   "source": [
    "# View the column headings. You'll need to reference column names exactly when doing math and plotting\n",
    "data.columns"
   ]
  },
  {
   "cell_type": "code",
   "execution_count": null,
   "metadata": {},
   "outputs": [],
   "source": [
    "# make a scatter plot with two columns\n",
    "plt.scatter(data['column 1'], data['column 2'], s=.5, c='purple')\n",
    "plt.show()"
   ]
  },
  {
   "cell_type": "code",
   "execution_count": null,
   "metadata": {},
   "outputs": [],
   "source": [
    "# make a histogram with one column\n",
    "plt.hist(data['column 1'], bins=10, histtype='step')\n",
    "plt.show()"
   ]
  },
  {
   "cell_type": "markdown",
   "metadata": {},
   "source": [
    "The official documentation pages for how the functions has more options for customizing them.  \n",
    "- [pyplot.scatter](https://matplotlib.org/stable/api/_as_gen/matplotlib.pyplot.scatter.html)\n",
    "- [pyplot.hist](https://matplotlib.org/stable/api/_as_gen/matplotlib.pyplot.hist.html)"
   ]
  },
  {
   "cell_type": "code",
   "execution_count": null,
   "metadata": {},
   "outputs": [],
   "source": [
    "# add a new column and fill it with values calculated using other columns\n",
    "data['new column'] = 2 * data['column 1'] + data['column 2']\n",
    "\n",
    "# shows the top of the data table again\n",
    "data.head()"
   ]
  },
  {
   "cell_type": "markdown",
   "metadata": {},
   "source": [
    "Sometimes it's helpful to crop the data set to only include a particular section. "
   ]
  },
  {
   "cell_type": "code",
   "execution_count": null,
   "metadata": {},
   "outputs": [],
   "source": [
    "# crop the data based on some criteria\n",
    "cropped = data.loc[(data['column 1'] > 3) & (data['column 1'] < 10)].copy()"
   ]
  },
  {
   "cell_type": "code",
   "execution_count": null,
   "metadata": {},
   "outputs": [],
   "source": [
    "# if you know the range of rows you'd like, try using iloc instead (integer locate)\n",
    "# this only keeps rows 2 through 100\n",
    "cropped = data.iloc[2:100].copy()\n",
    "cropped"
   ]
  },
  {
   "cell_type": "code",
   "execution_count": null,
   "metadata": {},
   "outputs": [],
   "source": [
    "# then look at the cropped data set to see if you're satisfied\n",
    "plt.scatter(cropped['column 1'], cropped['column 2'], s=.5, c='purple')\n",
    "plt.show()"
   ]
  },
  {
   "cell_type": "markdown",
   "metadata": {},
   "source": [
    "And Python can do statistics."
   ]
  },
  {
   "cell_type": "code",
   "execution_count": null,
   "metadata": {},
   "outputs": [],
   "source": [
    "# how many values in a column?\n",
    "n_1 = data['column 1'].count()\n",
    "n_1"
   ]
  },
  {
   "cell_type": "code",
   "execution_count": null,
   "metadata": {},
   "outputs": [],
   "source": [
    "# and the average\n",
    "mean_1 = data['column 1'].mean()\n",
    "mean_1"
   ]
  },
  {
   "cell_type": "code",
   "execution_count": null,
   "metadata": {},
   "outputs": [],
   "source": [
    "# and standard deviation of the values in a column\n",
    "std_1 = data['column 1'].std()\n",
    "std_1"
   ]
  },
  {
   "cell_type": "markdown",
   "metadata": {},
   "source": [
    "<hr/>  \n",
    "\n",
    "# Credits\n",
    "This notebook was written by [Adam LaMee](http://www.adamlamee.com). Thanks to the great folks at [Binder](https://mybinder.org/) and [Google Colaboratory](https://colab.research.google.com/notebooks/intro.ipynb) for making this notebook interactive without you needing to download it or install [Jupyter](https://jupyter.org/) on your own device."
   ]
  }
 ],
 "metadata": {
  "kernelspec": {
   "display_name": "Python 3 (ipykernel)",
   "language": "python",
   "name": "python3"
  },
  "language_info": {
   "codemirror_mode": {
    "name": "ipython",
    "version": 3
   },
   "file_extension": ".py",
   "mimetype": "text/x-python",
   "name": "python",
   "nbconvert_exporter": "python",
   "pygments_lexer": "ipython3",
   "version": "3.9.7"
  }
 },
 "nbformat": 4,
 "nbformat_minor": 4
}
