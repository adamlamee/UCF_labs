{
 "cells": [
  {
   "cell_type": "markdown",
   "metadata": {},
   "source": [
    "If you're running this in Google Colab, you can click \"Copy to Drive\" (above &#8593;) or go to **File > Save a Copy in Drive** so you'll have your own version to work on. That requires a Google login.  \n",
    "<hr/>\n",
    "\n",
    "# Lab 1: Analysis Practice  \n",
    "This Jupyter notebook is a template for analyzing data from a file using Python. If you need to start over from scratch, open a [clean copy of this activity](https://colab.research.google.com/github/adamlamee/UCF_labs/blob/main/analysis_practice_a.ipynb). If you need a refresher on how to execute this notebook, try the [intro activity](https://colab.research.google.com/github/adamlamee/UCF_labs/blob/main/intro.ipynb).  \n",
    "\n",
    "## Step 1: Import modules (aka libraries of functions) needed for the analysis"
   ]
  },
  {
   "cell_type": "code",
   "execution_count": null,
   "metadata": {},
   "outputs": [],
   "source": [
    "# first, run this to import the python modules needed for the analysis\n",
    "import pandas as pd\n",
    "import numpy as np\n",
    "import matplotlib as mpl\n",
    "import matplotlib.pyplot as plt"
   ]
  },
  {
   "cell_type": "markdown",
   "metadata": {},
   "source": [
    "## Step 2: Upload a data file\n",
    "If you'd rather read in data from a shared Google Sheet, see the [other version of this notebook](https://github.com/adamlamee/UCF_labs/blob/main/README.md).  \n",
    "\n",
    "This only lasts for the duration of running this notebook, so you'll need to upload the fiel each if you close the notebook and come back to it later.\n",
    "\n",
    "- Click the folder icon in left menu. It's below the {x}.\n",
    "- Click the upload icon at top of that window.\n",
    "- Wait until you see the filename appear in the directory on the left. Then, \n",
    "- Right-click on the filename or click the 3 vertical dots at the end of the filename to \"copy path\"\n",
    "- Paste that path as the URL in the pd.read fucntion below with *single quotes* around it.  "
   ]
  },
  {
   "cell_type": "code",
   "execution_count": null,
   "metadata": {},
   "outputs": [],
   "source": [
    "# or use pd.read_excel if you uploaded a .xlsx file (reading .xls files require more work than this)\n",
    "data = pd.read_excel('paste_the_URL_to_your_file_here', skiprows=0)\n",
    "\n",
    "# the .head() command gives a preview of the first n rows of the table\n",
    "data.head(3)"
   ]
  },
  {
   "cell_type": "markdown",
   "metadata": {},
   "source": [
    "How does the preview of the data table look? It should show column headings long with a few rows of numerical values. If the column headings are farther down, adjust the *skiprows* parameter when you read in the file until it looks right. You can read the  [pandas read_csv( ) page](https://pandas.pydata.org/docs/reference/api/pandas.read_csv.html) or [pandas read_excel( ) page](https://pandas.pydata.org/docs/reference/api/pandas.read_excel.html) for more info.\n",
    "\n",
    "## Step 3: Explore the data  \n",
    "Run the code in the cells below to get an idea of what your data set looks like."
   ]
  },
  {
   "cell_type": "code",
   "execution_count": null,
   "metadata": {},
   "outputs": [],
   "source": [
    "# shows the number of rows, columns in the data table\n",
    "data.shape"
   ]
  },
  {
   "cell_type": "code",
   "execution_count": null,
   "metadata": {},
   "outputs": [],
   "source": [
    "# View the column headings. You'll need to reference column names exactly when doing math and plotting\n",
    "data.columns"
   ]
  },
  {
   "cell_type": "markdown",
   "metadata": {},
   "source": [
    "## Step 4: Make some plots\n",
    "A histogram plots a single column to show the range of those values and how they're distributed. Run the code below and try a few different values for the number of bins. See the [pyplot.hist( ) page](https://matplotlib.org/stable/api/_as_gen/matplotlib.pyplot.hist.html) for more ways to customize your plot."
   ]
  },
  {
   "cell_type": "code",
   "execution_count": null,
   "metadata": {},
   "outputs": [],
   "source": [
    "# make a histogram with one column\n",
    "plt.hist(data['a column heading'], bins=10, histtype='step')\n",
    "plt.title(\"here's a title!\")\n",
    "plt.xlabel(\"label me\")\n",
    "plt.ylabel(\"frequency\")\n",
    "plt.show()"
   ]
  },
  {
   "cell_type": "markdown",
   "metadata": {},
   "source": [
    "A scatterplot visualizes the relationship between *two* columns. Run the code below and try adjusting some of the parameters. See the [pyplot.scatter( ) page](https://matplotlib.org/stable/api/_as_gen/matplotlib.pyplot.scatter.html) for more ways to customize your plot."
   ]
  },
  {
   "cell_type": "code",
   "execution_count": null,
   "metadata": {},
   "outputs": [],
   "source": [
    "# makes a scatterplot\n",
    "plt.scatter(data['a column heading'], data['another column heading'], s=.5, c='purple')\n",
    "plt.title(\"here's a title!\")\n",
    "plt.xlabel(\"label me\")\n",
    "plt.ylabel(\"so lonely\")\n",
    "plt.show()"
   ]
  },
  {
   "cell_type": "markdown",
   "metadata": {},
   "source": [
    "## Step 5: Cropping the data file\n",
    "Sometimes you'll want to analyze or visualize just some portion of the data. You can use the code below to crop the original data and make a copy (so you don't alter the original data set)."
   ]
  },
  {
   "cell_type": "code",
   "execution_count": null,
   "metadata": {},
   "outputs": [],
   "source": [
    "# crop the data based on some criteria\n",
    "cropped = data.loc[(data['column heading'] > 3) & (data['column heading'] < 10)].copy()\n",
    "\n",
    "cropped.shape   # see how big the cropped data set is"
   ]
  },
  {
   "cell_type": "code",
   "execution_count": null,
   "metadata": {},
   "outputs": [],
   "source": [
    "# if you know the range of rows you'd like, try using iloc instead (integer locate)\n",
    "# this only keeps rows 2 through 100\n",
    "cropped = data.iloc[2:100].copy()\n",
    "\n",
    "cropped.shape   # see how big the cropped data set is"
   ]
  },
  {
   "cell_type": "markdown",
   "metadata": {},
   "source": [
    "After cropping the data set, you'll probably want to plot your cropped data to see if you're satisfied. Look for how code below references *cropped* instead of the original *data*."
   ]
  },
  {
   "cell_type": "code",
   "execution_count": null,
   "metadata": {},
   "outputs": [],
   "source": [
    "# plotting the cropped data\n",
    "plt.scatter(cropped['column heading'], cropped['another column heading'], s=.5, c='purple')\n",
    "plt.show()"
   ]
  },
  {
   "cell_type": "markdown",
   "metadata": {},
   "source": [
    "## Step 6: Doing math with your data\n",
    "You can do math  with your data like you might use a spreadsheet. The code below shows some common tasks that may be useful in analyzing your data."
   ]
  },
  {
   "cell_type": "code",
   "execution_count": null,
   "metadata": {},
   "outputs": [],
   "source": [
    "# add a new column and fill it with values calculated using other columns\n",
    "data['new column'] = 2 * data['one column'] + data['another column']\n",
    "\n",
    "# shows the top of the data table again\n",
    "data.head()"
   ]
  },
  {
   "cell_type": "markdown",
   "metadata": {},
   "source": [
    "And Python can do statistics."
   ]
  },
  {
   "cell_type": "code",
   "execution_count": null,
   "metadata": {},
   "outputs": [],
   "source": [
    "# how many values in a column?\n",
    "n_1 = data['column heading'].count()\n",
    "n_1"
   ]
  },
  {
   "cell_type": "code",
   "execution_count": null,
   "metadata": {},
   "outputs": [],
   "source": [
    "# and the average\n",
    "mean_1 = data['column heading'].mean()\n",
    "mean_1"
   ]
  },
  {
   "cell_type": "code",
   "execution_count": null,
   "metadata": {},
   "outputs": [],
   "source": [
    "# and standard deviation of the values in a column\n",
    "std_1 = data['column heading'].std()\n",
    "std_1"
   ]
  },
  {
   "cell_type": "markdown",
   "metadata": {},
   "source": [
    "<hr/>  \n",
    "\n",
    "# Credits\n",
    "This notebook was written by [Adam LaMee](http://www.adamlamee.com). Thanks to the great folks at [Binder](https://mybinder.org/) and [Google Colaboratory](https://colab.research.google.com/notebooks/intro.ipynb) for making this notebook interactive without you needing to download it or install [Jupyter](https://jupyter.org/) on your own device."
   ]
  }
 ],
 "metadata": {
  "kernelspec": {
   "display_name": "Python 3 (ipykernel)",
   "language": "python",
   "name": "python3"
  },
  "language_info": {
   "codemirror_mode": {
    "name": "ipython",
    "version": 3
   },
   "file_extension": ".py",
   "mimetype": "text/x-python",
   "name": "python",
   "nbconvert_exporter": "python",
   "pygments_lexer": "ipython3",
   "version": "3.9.7"
  }
 },
 "nbformat": 4,
 "nbformat_minor": 4
}
