{
 "cells": [
  {
   "cell_type": "markdown",
   "id": "748c3603",
   "metadata": {},
   "source": [
    "# Descriptive statistics with a dataframe  \n",
    "*Pandas* is a Python module (e.g., library of functions) for working with tabular data similar to a spreadsheet. An advantage is the ability to automate analyses in a way that spreadsheets require clicking and typing to repeat. Python can also handle significantly larger data sets than most spreadsheet software.  \n",
    "\n",
    "First, you'll need to *import* the pandas module to use its functions. If you forget, the code below with output errors when it doesn't recognize a function it's trying to access (because it wasn't imported). "
   ]
  },
  {
   "cell_type": "code",
   "execution_count": null,
   "id": "1d8a2a9b",
   "metadata": {},
   "outputs": [],
   "source": [
    "# you only need to run this once, but it doesn't break anyting to run it multiple times\n",
    "import pandas as pd"
   ]
  },
  {
   "cell_type": "markdown",
   "id": "5a74d543",
   "metadata": {},
   "source": [
    "The notebook uses [Allison Horst](https://www.allisonhorst.com/)'s penguin data, but you can use these examples with any pandas dataframe.  "
   ]
  },
  {
   "cell_type": "code",
   "execution_count": null,
   "id": "df3a6c31",
   "metadata": {},
   "outputs": [],
   "source": [
    "# this reads in a data file\n",
    "penguins = pd.read_csv('https://github.com/mwaskom/seaborn-data/raw/master/penguins.csv')\n",
    "\n",
    "# this shows the first few rows of the dataframe\n",
    "penguins.head(3)"
   ]
  },
  {
   "cell_type": "markdown",
   "id": "c6ab1d40",
   "metadata": {},
   "source": [
    "Now that there's a dataframe called \"penguins\", you can see some descriptive statistics of one column by referencing the **dataframe** along with the **column heading** in single quotes surrounded by square brackets. All of that is case-sensitive, too. Here's an example of how to refernce the data in a column of a dataframe:  \n",
    "\n",
    "penguins['flipper_length_mm']  \n",
    "\n",
    "Pandas can determine statistical quantities by adding the function name to the end of the column reference. Here's an example:"
   ]
  },
  {
   "cell_type": "code",
   "execution_count": null,
   "id": "68379cea",
   "metadata": {},
   "outputs": [],
   "source": [
    "penguins['flipper_length_mm'].mean()"
   ]
  },
  {
   "cell_type": "markdown",
   "id": "c8d0c5e6",
   "metadata": {},
   "source": [
    "Did that output a number around 200? If not or you got an error, things to check are:  \n",
    "- Did you import pandas first?  \n",
    "- Did you read in the data?  \n",
    "- Did you edit the code and lose a single quote, bracket, period, ot something else?  \n",
    "\n",
    "Replace .mean() in the example above to count the number of values in the column using .count()  \n",
    "The standard deviation is found with .std()"
   ]
  },
  {
   "cell_type": "code",
   "execution_count": null,
   "id": "0e44fd71",
   "metadata": {},
   "outputs": [],
   "source": [
    "penguins['flipper_length_mm'].std()"
   ]
  },
  {
   "cell_type": "markdown",
   "id": "c8c1187b",
   "metadata": {},
   "source": [
    "Python can also do math with these quantities using +, -, *, and /."
   ]
  },
  {
   "cell_type": "code",
   "execution_count": null,
   "id": "25a83fe4",
   "metadata": {},
   "outputs": [],
   "source": [
    "# twice the average, if you needed to calculate that\n",
    "2 * penguins['flipper_length_mm'].mean()"
   ]
  },
  {
   "cell_type": "code",
   "execution_count": null,
   "id": "cc3395c7",
   "metadata": {},
   "outputs": [],
   "source": [
    "# double asterisk does an exponent (not ^ like in spreadsheets)\n",
    "penguins['flipper_length_mm'].std() ** 2"
   ]
  },
  {
   "cell_type": "markdown",
   "id": "d65091e3",
   "metadata": {},
   "source": [
    "You can quickly end up with long lines of code for calculations. A way to simplify that is to store a value as a variable. Then, you can reference that variable instead of writing a longer line of code. Here's an example of squaring the number of values in a column:"
   ]
  },
  {
   "cell_type": "code",
   "execution_count": null,
   "id": "026ae5e6",
   "metadata": {},
   "outputs": [],
   "source": [
    "# save the number of values as a variable called \"n\"\n",
    "n = penguins['flipper_length_mm'].count()\n",
    "\n",
    "# outputs n squared\n",
    "n**2"
   ]
  },
  {
   "cell_type": "markdown",
   "id": "12f84d0f",
   "metadata": {},
   "source": [
    "## Credits\n",
    "This notebook was designed by [Adam LaMee](https://adamlamee.github.io/). The penguin data came from [Allison Horst](https://www.allisonhorst.com/) in R format and made into a csv for Seabon use by [Michael Waskom](https://github.com/mwaskom/seaborn). Thanks to the great folks at [Binder](https://mybinder.org/) and [Google Colaboratory](https://colab.research.google.com/notebooks/intro.ipynb) for making this notebook interactive without you needing to download it or install [Jupyter](https://jupyter.org/) on your own device."
   ]
  }
 ],
 "metadata": {
  "kernelspec": {
   "display_name": "Python 3 (ipykernel)",
   "language": "python",
   "name": "python3"
  },
  "language_info": {
   "codemirror_mode": {
    "name": "ipython",
    "version": 3
   },
   "file_extension": ".py",
   "mimetype": "text/x-python",
   "name": "python",
   "nbconvert_exporter": "python",
   "pygments_lexer": "ipython3",
   "version": "3.9.7"
  }
 },
 "nbformat": 4,
 "nbformat_minor": 5
}
