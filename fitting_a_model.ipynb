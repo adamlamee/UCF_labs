{
 "cells": [
  {
   "cell_type": "markdown",
   "id": "5c0048fb",
   "metadata": {},
   "source": [
    "If you're running this in Google Colab, you can click \"Copy to Drive\" (above &#8593;) or go to **File > Save a Copy in Drive** so you'll have your own version to work on. That requires a Google login.  \n",
    "<hr/>\n",
    "\n",
    "# Fitting A Model   \n",
    "This is a walkthrough for analyzing the problem presented in the [Fitting a Model tutorial](https://docs.google.com/document/d/1m403giYjW_YQnUd6h55BgoILSXM5sfMpDl3piPgTWpo/edit?usp=sharing). We'll use Dr. Natasha Holmes's *Statistics Summary* (linked in the course website) as a guide for how to analyze data in this course. This notebook shows how to do use Python to do the calculations in Section IV: *Fitting by the Method of Weighted Least-Squares*.\n",
    "\n",
    "If you need to start over from scratch, open a [clean copy of this activity](https://colab.research.google.com/github/adamlamee/UCF_labs/blob/master/fitting_a_model.ipynb). If you need a refresher on how to execute this notebook, try the [intro activity](https://colab.research.google.com/github/adamlamee/UCF_labs/blob/master/intro.ipynb).    "
   ]
  },
  {
   "cell_type": "code",
   "execution_count": null,
   "id": "aa3e85bc",
   "metadata": {},
   "outputs": [],
   "source": [
    "# imports the software you'll use\n",
    "import numpy as np\n",
    "import matplotlib.pyplot as plt\n",
    "import pandas as pd\n",
    "from scipy.optimize import curve_fit"
   ]
  },
  {
   "cell_type": "markdown",
   "id": "0df88bca",
   "metadata": {},
   "source": [
    "## Setting up the data table"
   ]
  },
  {
   "cell_type": "code",
   "execution_count": null,
   "id": "a29fd55f",
   "metadata": {},
   "outputs": [],
   "source": [
    "# as an example, these are the same measurements from the Fitting a Model tutorial you already did\n",
    "lab_data = pd.DataFrame()               # don't edit this line\n",
    "# edit the column names and measured values\n",
    "lab_data['mass'] = (200, 40, 60)         # the levels of the independent variable, IV. You can have more than 3\n",
    "lab_data['trial 1'] = (5.3, 3.8, 17)   # these trials should be in the same order as the levels of your IV\n",
    "lab_data['trial 2'] = (5.5, 4.1, 3.4)   # more trials\n",
    "lab_data['trial 3'] = (5.8, 4.1, 3.5)   # you'll need at least three trials for each level of the IV\n",
    "lab_data['trial 4'] = (.3, 4.1, 3.4)   # More data is usually better. Keep adding rows for additional trials\n",
    "lab_data                                # shows your data table"
   ]
  },
  {
   "cell_type": "markdown",
   "id": "f95533e0",
   "metadata": {},
   "source": [
    "Error #1: Before you go on, compare the data table output by the code above to the data table in the Fitting a Model tutorial. There are a few (intentional) typos. Fix those first and run the cell again before moving on."
   ]
  },
  {
   "cell_type": "code",
   "execution_count": null,
   "id": "eab3d4ef",
   "metadata": {},
   "outputs": [],
   "source": [
    "# adds a column for mean and calculates the mean for each row\n",
    "lab_data['mean'] = lab_data.loc[:,'trial 1': 'trial 4'].mean(axis=1) # loc looks at [all rows, range of columns]\n",
    "lab_data                                                             # shows lab_data again"
   ]
  },
  {
   "cell_type": "code",
   "execution_count": null,
   "id": "77abdb77",
   "metadata": {},
   "outputs": [],
   "source": [
    "# adds a column for st dev, but there's a typo you'll need to fix. It isn't using all four trials.\n",
    "lab_data['st dev'] = lab_data.loc[:,'trial 1': 'trial 2'].std(axis=1) # theres a typo in this line!\n",
    "lab_data                                                              # shows lab_data again"
   ]
  },
  {
   "cell_type": "markdown",
   "id": "df75289a",
   "metadata": {},
   "source": [
    "Error #2: The st dev calculation above isn't correct. Compare it with the line that calculated the mean to see what to edit.  "
   ]
  },
  {
   "cell_type": "code",
   "execution_count": null,
   "id": "40848ee5",
   "metadata": {},
   "outputs": [],
   "source": [
    "n = 3   # your number of trials?\n",
    "lab_data['st unc'] = lab_data['mean'] / np.sqrt(n) # wow, that's not the equation for st unc\n",
    "lab_data                                           # shows lab_data again"
   ]
  },
  {
   "cell_type": "markdown",
   "id": "a82ecf0e",
   "metadata": {},
   "source": [
    "Error #3: The code cell above has typos in the first and second lines. \n",
    "\n",
    "<hr/>\n",
    "\n",
    "Now's a good time to take a look at your data table above and check that it all makes sense. Maybe do the calculations for one row by hand to check. Who are we kidding? You may just want to trust a bunch of code given to you by someone charged with teaching you a lesson. But if it all looks good ...  \n",
    "## Fitting a model to the data  \n",
    "\n",
    "That's the last of the intentional typos. The rest of the code will require you to choose a model function and editing some parameters of the code that makes the graphs.  "
   ]
  },
  {
   "cell_type": "code",
   "execution_count": null,
   "id": "8ca9a050",
   "metadata": {},
   "outputs": [],
   "source": [
    "# this calculates the model y_values using your x-values and coefficients\n",
    "\n",
    "a = -1  # the first coefficient in your model function; change this all you want\n",
    "b = 7   # the second coefficient in your model function; change this, too\n",
    "\n",
    "def model_function(x,a,b):      # only have one uncommented function below\n",
    "    #y = a * x + b              # this would make a linear model\n",
    "    #y = a * (x**2) + b         # this would make a quadratic model\n",
    "    y = a * np.log(x) + b       # this is numpy's ln function, though it's typed log()\n",
    "    return y\n",
    "\n",
    "lab_data['model y-values'] = model_function(lab_data['mass'],a,b)    # adds a column to your dataframe\n",
    "lab_data                                                             # shows lab_data again"
   ]
  },
  {
   "cell_type": "code",
   "execution_count": null,
   "id": "0f7c2619",
   "metadata": {},
   "outputs": [],
   "source": [
    "# adds a column for residuals (the difference between each mean and the model)\n",
    "lab_data['residuals'] = lab_data['mean'] - lab_data['model y-values']\n",
    "lab_data['res^2/stunc^2'] = lab_data['residuals']**2 / lab_data['st unc']**2\n",
    "lab_data                             # shows the data table again"
   ]
  },
  {
   "cell_type": "code",
   "execution_count": null,
   "id": "ff66833a",
   "metadata": {},
   "outputs": [],
   "source": [
    "# the chi-squared value for your current model is ...\n",
    "chi_sq = lab_data['res^2/stunc^2'].mean()\n",
    "print(\"The chi-sq for this model function is ... \", np.round(chi_sq, 2))"
   ]
  },
  {
   "cell_type": "markdown",
   "id": "2d86613d",
   "metadata": {},
   "source": [
    "A smaller chi-sq means a better fit. Now is a good time to go back and try different values for the model coefficients, recalculate the chi-sq, and see if looks any better. Try that a few times to reduce the chi-sq as much as you can. You're probably dying to see what it looks like, right? \n",
    "\n",
    "<hr/>\n",
    "\n",
    "## Visualizing the Model  \n",
    "\n",
    "A **scatterplot** is pretty standard when your independent variable has levels that are numeric, like distances or lengths. Want to customize this type of plot even more? See matplotlib's [scatter](https://matplotlib.org/stable/api/_as_gen/matplotlib.pyplot.scatter.html) and [errorbar](https://matplotlib.org/stable/api/_as_gen/matplotlib.pyplot.errorbar.html) pages."
   ]
  },
  {
   "cell_type": "code",
   "execution_count": null,
   "id": "44a6b9d3",
   "metadata": {},
   "outputs": [],
   "source": [
    "# edit these if you used diffferent column headings\n",
    "x_values = lab_data['mass']        # which column goes on your x-axis?\n",
    "y_values = lab_data['mean']        # which column goes on your y-axis?\n",
    "errorbars = 20*lab_data['st unc']  # this is incorrect; edit this to be twice the std unc\n",
    "\n",
    "# this part plots the data\n",
    "fig, ax = plt.subplots()\n",
    "ax.scatter(x_values, y_values, color='pink', alpha=.5, edgecolor='purple', s=100, label='who am I?')\n",
    "ax.errorbar(x_values, y_values, yerr=errorbars, label='erraaaar!', ecolor='black', capsize=10, fmt='none')\n",
    "\n",
    "# this part plots the model function\n",
    "model_x = np.linspace(min(ax.get_xlim()),max(ax.get_xlim()))  # generates evenly spaced x-values to plot\n",
    "model_y = model_function(model_x,a,b)                         # uses those x-values to make model y-values to plot\n",
    "ax.plot(model_x, model_y, color= 'chartreuse', label='model', linestyle=\"--\")    # makes a lineplot of the model\n",
    "\n",
    "# edit these so your plot looks nice\n",
    "ax.set_xlabel('label me?')\n",
    "ax.set_ylabel('label me, too')\n",
    "ax.set_title('title goes here')\n",
    "ax.set_xlim(0,100)\n",
    "ax.set_ylim(0,10)\n",
    "ax.grid(False)\n",
    "#ax.text(10, 1.5, \"the model equation would look nice here\")    # add text to the plot at coords x,y,\"text\"\n",
    "#ax.legend()                                                    # do you want a legend?\n",
    "plt.show()"
   ]
  },
  {
   "cell_type": "markdown",
   "id": "8a40ae42",
   "metadata": {},
   "source": [
    "## (optional) Your data viz is about to get awesome"
   ]
  },
  {
   "cell_type": "code",
   "execution_count": null,
   "id": "c1ea8bfc",
   "metadata": {},
   "outputs": [],
   "source": [
    "# the super fancy plots for your report\n",
    "fig, ax = plt.subplots(2, 2, sharex=True, figsize=(12,7))        # that's (2 rows, 2 cols) ... four subplots\n",
    "fig.subplots_adjust(hspace=0.5)     # make a little extra space between the subplots\n",
    "\n",
    "# plots data points and errorbars on ax[0,0]\n",
    "ax[0,0].scatter(x=lab_data['mass'], y=lab_data['mean'], label='data')\n",
    "ax[0,0].errorbar(x=lab_data['mass'], y=lab_data['mean'], yerr=2*lab_data['st unc'], label='unc', fmt='none', capsize=5)\n",
    "# plots model on ax[0,0]\n",
    "x_vals = np.linspace(min(ax[0,0].get_xlim()),max(ax[0,0].get_xlim()))  # generates evenly spaced x-values to plot\n",
    "y_vals = model_function(x_vals,a,b)                           # uses those x-values to make model y-values to plot\n",
    "ax[0,0].plot(x_vals, y_vals, color= 'gray', label='model')        # makes a linepolt of the model\n",
    "\n",
    "# sets some other useful parameters. Change these if you need\n",
    "ax[0,0].set_xlim(0,80)\n",
    "ax[0,0].set_ylim(0,6)\n",
    "ax[0,0].set_ylabel(\"y label?\")\n",
    "ax[0,0].set_title(\"title me?\")\n",
    "ax[0,0].legend()                 # displays legend using the 'label' specified in the scatter and line plots above\n",
    "ax[0,0].text(10, 1.5, \"type your model eqn w/coeffs here\")\n",
    "ax[0,0].text(10, .9, \"chi-sq: \" + str(np.round(chi_sq,2)))\n",
    "\n",
    "# residual plot on ax[1,0]\n",
    "ax[1,0].set_title(\"residuals\")\n",
    "ax[1,0].bar(lab_data['mass'], lab_data['residuals'])\n",
    "ax[1,0].axhline(0, color='gray')\n",
    "\n",
    "# plots your model but with optimized coefficients on ax[0,1]\n",
    "popt, cov = curve_fit(model_function, lab_data['mass'], lab_data['mean']) #scipy's fancy curve fitter\n",
    "ax[0,1].scatter(x=lab_data['mass'], y=lab_data['mean'], label='data')\n",
    "ax[0,1].plot(x_vals, model_function(x_vals,popt[0],popt[1]), color= 'gray', label='model')        # makes a linepolt of the model\n",
    "ax[0,1].set_title(\"optimized model\")\n",
    "#ax[0,1].text(10, 1.5, \"a= \" + popt[0])\n",
    "ax[0,1].sharey(ax[0,0])\n",
    "\n",
    "# residual plot on ax[1,1]\n",
    "ax[1,1].set_title(\"optimized model residuals\")\n",
    "ax[1,1].bar(lab_data['mass'], (model_function(lab_data['mass'],popt[0],popt[1]) - lab_data['mean']))\n",
    "ax[1,1].axhline(0, color='gray')\n",
    "#ax[1,1].sharey(ax[1,0])\n",
    "\n",
    "plt.show()"
   ]
  },
  {
   "cell_type": "code",
   "execution_count": null,
   "id": "a26a1e31",
   "metadata": {},
   "outputs": [],
   "source": []
  }
 ],
 "metadata": {
  "kernelspec": {
   "display_name": "Python 3 (ipykernel)",
   "language": "python",
   "name": "python3"
  },
  "language_info": {
   "codemirror_mode": {
    "name": "ipython",
    "version": 3
   },
   "file_extension": ".py",
   "mimetype": "text/x-python",
   "name": "python",
   "nbconvert_exporter": "python",
   "pygments_lexer": "ipython3",
   "version": "3.7.11"
  }
 },
 "nbformat": 4,
 "nbformat_minor": 5
}
