{
 "cells": [
  {
   "cell_type": "markdown",
   "id": "84447684",
   "metadata": {},
   "source": [
    "# Previewing a dataframe  \n",
    "*Pandas* is a Python module (e.g., library of functions) for working with tabular data similar to a spreadsheet. An advantage is the ability to automate analyses in a way that spreadsheets require clicking and typing to repeat. Python can also handle significantly larger data sets than most spreadsheet software.  \n",
    "\n",
    "First, you'll need to *import* the pandas module to use its functions. If you forget, the code below with output errors when it doesn't recognize a function it's trying to access (because it wasn't imported). "
   ]
  },
  {
   "cell_type": "code",
   "execution_count": null,
   "id": "8c2d3856",
   "metadata": {},
   "outputs": [],
   "source": [
    "# you only need to run this once, but it doesn't break anyting to run it multiple times\n",
    "import pandas as pd"
   ]
  },
  {
   "cell_type": "markdown",
   "id": "a7c44b48",
   "metadata": {},
   "source": [
    "Now that pandas is imported, the .read_csv() function can read in a csv file with data. *Technical note*:  \n",
    "- When pandas reads in a data file, it creates a *dataframe* which is like a data table.  \n",
    "- You can name dataframes a generic name, like \"data\" or \"data2\", or something more meaningful. This example creates a dataframe calling it *penguins* since it has data about penguins.  \n",
    "- Python variable names are case-sensitive, must begin with a letter, not contain spaces or special characters.  \n",
    "\n",
    "For this example notebook, this read a file form the web, but you can read from a Google Sheet or upload a file from your computer.  "
   ]
  },
  {
   "cell_type": "code",
   "execution_count": null,
   "id": "b952ba08",
   "metadata": {},
   "outputs": [],
   "source": [
    "# this reads in a data file\n",
    "penguins = pd.read_csv('https://github.com/mwaskom/seaborn-data/raw/master/penguins.csv')\n",
    "\n",
    "# this shows the first few rows of the dataframe\n",
    "# you can edit the code to show a different number of rows\n",
    "# the .tail() funciton is similar, but shows the last few rows\n",
    "penguins.head(3)"
   ]
  },
  {
   "cell_type": "markdown",
   "id": "9100f703",
   "metadata": {},
   "source": [
    "Want to know how big the dataframe is? For large data sets it may not be convenient to view the entire dataframe. Instead, you can use some functions to get a better idea of what your data look like.  "
   ]
  },
  {
   "cell_type": "code",
   "execution_count": null,
   "id": "f13c28de",
   "metadata": {},
   "outputs": [],
   "source": [
    "# the .shape function gives the number of (rows,columns) in the dataframe\n",
    "penguins.shape"
   ]
  },
  {
   "cell_type": "code",
   "execution_count": null,
   "id": "7fe562d8",
   "metadata": {},
   "outputs": [],
   "source": [
    "# the .describe() function gives descriptive statistics for each column of the dataframe\n",
    "penguins.describe()"
   ]
  },
  {
   "cell_type": "markdown",
   "id": "c4b4375e",
   "metadata": {},
   "source": [
    "## Credits\n",
    "This notebook was designed by [Adam LaMee](https://adamlamee.github.io/). The penguin data came from [Allison Horst](https://www.allisonhorst.com/) in R format and made into a csv for Seabon use by [Michael Waskom](https://github.com/mwaskom/seaborn). Thanks to the great folks at [Binder](https://mybinder.org/) and [Google Colaboratory](https://colab.research.google.com/notebooks/intro.ipynb) for making this notebook interactive without you needing to download it or install [Jupyter](https://jupyter.org/) on your own device."
   ]
  }
 ],
 "metadata": {
  "kernelspec": {
   "display_name": "Python 3 (ipykernel)",
   "language": "python",
   "name": "python3"
  },
  "language_info": {
   "codemirror_mode": {
    "name": "ipython",
    "version": 3
   },
   "file_extension": ".py",
   "mimetype": "text/x-python",
   "name": "python",
   "nbconvert_exporter": "python",
   "pygments_lexer": "ipython3",
   "version": "3.9.7"
  }
 },
 "nbformat": 4,
 "nbformat_minor": 5
}
