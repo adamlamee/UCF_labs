{
 "cells": [
  {
   "cell_type": "markdown",
   "metadata": {},
   "source": [
    "If you're running this in Google Colab, you can click \"Copy to Drive\" (above &#8593;) or go to **File > Save a Copy in Drive** so you'll have your own version to work on. That requires a Google login.  \n",
    "<hr/>\n",
    "\n",
    "# Analyzing Measurement Uncertainty   \n",
    "We'll use Dr. Natasha Holmes's *Statistics Summary* (linked in the course website) as a guide for how to analyze data in this course. This notebook shows how to do use python to do the calculations in section II *Statistics for Repeated Measurements with Statistical Variation* and section III *Making Comparisons*.\n",
    "\n",
    "If you need to start over from scratch, open a [clean copy of this activity](https://colab.research.google.com/github/adamlamee/UCF_labs/blob/master/making_comparisons.ipynb). If you need a refresher on how to execute this notebook, try the [intro activity](https://colab.research.google.com/github/adamlamee/UCF_labs/blob/master/intro.ipynb).    \n",
    "\n",
    "## II. Statistics for Repeated Measurements with Statistical Variation"
   ]
  },
  {
   "cell_type": "code",
   "execution_count": null,
   "metadata": {},
   "outputs": [],
   "source": [
    "import numpy as np                   # numpy does math\n",
    "import matplotlib.pyplot as plt      # pyplot makes plots"
   ]
  },
  {
   "cell_type": "code",
   "execution_count": null,
   "metadata": {},
   "outputs": [],
   "source": [
    "# you can change the measurements and histogram properties\n",
    "# keep the same format (e.g., brackets and commas) to avoid errors\n",
    "\n",
    "sample_a = [1.2, 1.3, 1.1, 0.9, 1.4]               # some measurements from sample A\n",
    "sample_b = [1.3, 1.1, 1.4, 1.5, 1.2]               # some measurements from trial B to compare\n",
    "plt.hist((sample_a, sample_b), bins=5, range=[0.8,1.8], color=('pink','purple'));   # makes a histogram"
   ]
  },
  {
   "cell_type": "code",
   "execution_count": null,
   "metadata": {},
   "outputs": [],
   "source": [
    "a_mean = np.mean(sample_a)   # calculates the mean of sample a, saves it as a variable names \"a_mean\"\n",
    "a_mean                       # displays the mean value you just calculated"
   ]
  },
  {
   "cell_type": "code",
   "execution_count": null,
   "metadata": {},
   "outputs": [],
   "source": [
    "# try adding code here to find the mean of sample b\n",
    "# copy and paste are a programmers best friends, but rename your variables\n"
   ]
  },
  {
   "cell_type": "code",
   "execution_count": null,
   "metadata": {},
   "outputs": [],
   "source": [
    "a_stdev = np.std(sample_a, ddof=1)      # finds the standard deviation\n",
    "a_stdev"
   ]
  },
  {
   "cell_type": "code",
   "execution_count": null,
   "metadata": {},
   "outputs": [],
   "source": [
    "# try that again for sample b's standard deviation\n"
   ]
  },
  {
   "cell_type": "code",
   "execution_count": null,
   "metadata": {},
   "outputs": [],
   "source": [
    "a_count = len(sample_a)      # \"a_count\" is now a variable with the number of observations in sample a\n",
    "a_count"
   ]
  },
  {
   "cell_type": "code",
   "execution_count": null,
   "metadata": {},
   "outputs": [],
   "source": [
    "# now count the observations in sample b\n"
   ]
  },
  {
   "cell_type": "code",
   "execution_count": null,
   "metadata": {},
   "outputs": [],
   "source": [
    "# finding standard uncertainty\n",
    "a_stunc = a_stdev / np.sqrt(a_count)       # python can do algebra\n",
    "a_stunc"
   ]
  },
  {
   "cell_type": "code",
   "execution_count": null,
   "metadata": {},
   "outputs": [],
   "source": [
    "# how about sample b's standard uncertainty?\n"
   ]
  },
  {
   "cell_type": "markdown",
   "metadata": {},
   "source": [
    "## III. Comparing Means"
   ]
  },
  {
   "cell_type": "code",
   "execution_count": null,
   "metadata": {},
   "outputs": [],
   "source": [
    "# t' statistic\n",
    "# for the code below to work, you'll need to have done the calculations for sample b above, too\n",
    "t_prime = (a_mean - b_mean) / np.sqrt(a_stunc**2 + b_stunc**2)\n",
    "t_prime"
   ]
  },
  {
   "cell_type": "markdown",
   "metadata": {},
   "source": [
    "Nicely done. If you found a t' of about -1.2, congrats! If not, check your math or start over with a [clean copy of this activity](https://colab.research.google.com/github/adamlamee/UCF_labs/blob/master/making_comparisons.ipynb).  \n",
    "\n",
    "**Students in PHY2048 or PHY2049**: you'll be required to use python to analyze the data you collect in your next lab investigation. If your group is shaky on this, it's worth going through again.  \n",
    "\n",
    "**Students in PHY2053 or PHY2054**: you'll have the option of using python or a spreadsheet to analyze the data you collect in your next lab investigation.\n",
    "\n",
    "<hr/>  \n",
    "\n",
    "# Credits\n",
    "This notebook was written by [Adam LaMee](http://www.adamlamee.com). Thanks to the great folks at [Binder](https://mybinder.org/) and [Google Colaboratory](https://colab.research.google.com/notebooks/intro.ipynb) for making this notebook interactive without you needing to download it or install [Jupyter](https://jupyter.org/) on your own device."
   ]
  }
 ],
 "metadata": {
  "kernelspec": {
   "display_name": "Python 3",
   "language": "python",
   "name": "python3"
  },
  "language_info": {
   "codemirror_mode": {
    "name": "ipython",
    "version": 3
   },
   "file_extension": ".py",
   "mimetype": "text/x-python",
   "name": "python",
   "nbconvert_exporter": "python",
   "pygments_lexer": "ipython3",
   "version": "3.7.7"
  }
 },
 "nbformat": 4,
 "nbformat_minor": 4
}
