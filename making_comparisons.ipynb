{
 "cells": [
  {
   "cell_type": "markdown",
   "metadata": {},
   "source": [
    "If you're running this in Google Colab, you can click \"Copy to Drive\" (above &#8593;) or go to **File > Save a Copy in Drive** so you'll have your own version to work on. That requires a Google login.  \n",
    "<hr/>\n",
    "\n",
    "# Analyzing Measurement Uncertainty   \n",
    "We'll use Dr. Natasha Holmes's *Statistics Summary* (linked in the course website) as a guide for how to analyze data in this course. This notebook shows how to do use python to do the calculations in section II *Statistics for Repeated Measurements with Statistical Variation* and section III *Making Comparisons*.\n",
    "\n",
    "If you need to start over from scratch, open a [clean copy of this activity](https://colab.research.google.com/github/adamlamee/UCF_labs/blob/master/making_comparisons.ipynb). If you need a refresher on how to execute this notebook, try the [intro activity](https://colab.research.google.com/github/adamlamee/UCF_labs/blob/master/intro.ipynb).    \n",
    "\n",
    "## II. Statistics for Repeated Measurements with Statistical Variation"
   ]
  },
  {
   "cell_type": "code",
   "execution_count": null,
   "metadata": {},
   "outputs": [],
   "source": [
    "import numpy as np                   # numpy does math\n",
    "import matplotlib.pyplot as plt      # pyplot makes plots"
   ]
  },
  {
   "cell_type": "code",
   "execution_count": null,
   "metadata": {},
   "outputs": [],
   "source": [
    "# you can change the measurements and histogram properties\n",
    "# keep the same format (e.g., brackets and commas) to avoid errors\n",
    "\n",
    "sample_a = [1.2, 1.3, 1.1, 0.9, 1.4]               # some measurements from sample A\n",
    "sample_b = [1.3, 1.1, 1.4, 1.5, 1.2]               # some measurements from trial B to compare\n",
    "plt.hist((sample_a, sample_b), bins=5, range=[0.8,1.8], color=('pink','purple'));   # makes a histogram"
   ]
  },
  {
   "cell_type": "code",
   "execution_count": null,
   "metadata": {},
   "outputs": [],
   "source": [
    "a_mean = np.mean(sample_a)   # calculates the mean of sample a, saves it as a variable names \"a_mean\"\n",
    "a_mean                       # displays the mean value you just calculated"
   ]
  },
  {
   "cell_type": "code",
   "execution_count": null,
   "metadata": {},
   "outputs": [],
   "source": [
    "# try adding code here to find the mean of sample b\n",
    "# copy and paste are a programmers best friends, but rename your variables\n"
   ]
  },
  {
   "cell_type": "code",
   "execution_count": null,
   "metadata": {},
   "outputs": [],
   "source": [
    "a_stdev = np.std(sample_a, ddof=1)      # finds the standard deviation\n",
    "a_stdev"
   ]
  },
  {
   "cell_type": "code",
   "execution_count": null,
   "metadata": {},
   "outputs": [],
   "source": [
    "# try that again for sample b's standard deviation\n"
   ]
  },
  {
   "cell_type": "code",
   "execution_count": null,
   "metadata": {},
   "outputs": [],
   "source": [
    "a_count = len(sample_a)      # \"a_count\" is now a variable with the number of observations in sample a\n",
    "a_count"
   ]
  },
  {
   "cell_type": "code",
   "execution_count": null,
   "metadata": {},
   "outputs": [],
   "source": [
    "# now count the observations in sample b\n"
   ]
  },
  {
   "cell_type": "code",
   "execution_count": null,
   "metadata": {},
   "outputs": [],
   "source": [
    "# finding standard uncertainty\n",
    "a_stunc = a_stdev / np.sqrt(a_count)       # python can do algebra\n",
    "a_stunc"
   ]
  },
  {
   "cell_type": "code",
   "execution_count": null,
   "metadata": {},
   "outputs": [],
   "source": [
    "# how about sample b's standard uncertainty?\n"
   ]
  },
  {
   "cell_type": "markdown",
   "metadata": {},
   "source": [
    "## III. Comparing Means"
   ]
  },
  {
   "cell_type": "code",
   "execution_count": null,
   "metadata": {},
   "outputs": [],
   "source": [
    "# t' statistic\n",
    "# for the code below to work, you'll need to have done the calculations for sample b above, too\n",
    "t_prime = abs((a_mean - b_mean) / np.sqrt(a_stunc**2 + b_stunc**2))\n",
    "t_prime"
   ]
  },
  {
   "cell_type": "markdown",
   "metadata": {},
   "source": [
    "Nicely done. If you found a t' of about 1.1, congrats! If not, check your math or start over with a [clean copy of this activity](https://colab.research.google.com/github/adamlamee/UCF_labs/blob/master/making_comparisons.ipynb).  \n",
    "\n",
    "\n",
    "# IV. Plotting the Results  \n",
    "Two options for plotting your data are given below.\n",
    "\n",
    "A **scatterplot** is pretty standard when your independent variable has levels that are numeric, like distances or lengths. Want to customize this type of plot even more? See matplotlib's [scatter](https://matplotlib.org/stable/api/_as_gen/matplotlib.pyplot.scatter.html) and [errorbar](https://matplotlib.org/stable/api/_as_gen/matplotlib.pyplot.errorbar.html) pages.\n",
    "\n",
    "A **barplot** is more appropriate when your independent variable has levels that aren't numeric, like \"facing left\" and \"facing right\". Want to customize this type of plot even more? See matplotlib's [barplot](https://matplotlib.org/stable/api/_as_gen/matplotlib.pyplot.bar.html) page."
   ]
  },
  {
   "cell_type": "code",
   "execution_count": null,
   "metadata": {},
   "outputs": [],
   "source": [
    "# here's a scatterplot for numeric IV levels\n",
    "\n",
    "# set up the values that get plotted\n",
    "x_values = [3.5,10]\n",
    "y_values = [a_mean, b_mean]\n",
    "errorbars = [2*a_stdev, 3*b_mean]  # this is totally wrong; edit this to be twice the std unc for a and b\n",
    "\n",
    "# this part makes the plot\n",
    "fig, ax = plt.subplots()\n",
    "ax.scatter(x_values, y_values)\n",
    "ax.errorbar(x_values, y_values, yerr=errorbars, ecolor='black', capsize=10, fmt='o')\n",
    "\n",
    "# edit these so your plot looks nice\n",
    "ax.set_xlabel('label me?')\n",
    "ax.set_ylabel('label me, too')\n",
    "ax.set_title('title goes here')\n",
    "ax.set_xlim(0,15)\n",
    "ax.set_ylim(0,5)\n",
    "ax.grid(False)\n",
    "plt.show()"
   ]
  },
  {
   "cell_type": "code",
   "execution_count": null,
   "metadata": {},
   "outputs": [],
   "source": [
    "# here's a barplot for non-numeric (\"categorical\") IV levels\n",
    "\n",
    "# set up the values that get plotted\n",
    "bar_labels = [\"long\", \"short\"]     # you'll want to edit these labels\n",
    "bar_heights = [a_mean, b_mean]     # these will be the heights of the bars, in order\n",
    "errorbars = [2*a_stdev, 3*b_mean]  # this is totally wrong; edit this to be twice the std unc for a and b\n",
    "\n",
    "# this part makes the plot\n",
    "fig, ax = plt.subplots()\n",
    "ax.bar(bar_labels, bar_heights, yerr=errorbars, align='center', alpha=0.5, color='green', ecolor='black', capsize=10)\n",
    "\n",
    "# edit these so your plot looks nice\n",
    "ax.set_xlabel('label me?')\n",
    "ax.set_ylabel('label me, too')\n",
    "ax.set_title('title goes here')\n",
    "ax.grid(False)\n",
    "plt.show()"
   ]
  },
  {
   "cell_type": "markdown",
   "metadata": {},
   "source": [
    "<hr/>  \n",
    "\n",
    "# Credits\n",
    "This notebook was written by [Adam LaMee](http://www.adamlamee.com) with contributions by UCF graduate student Ifthakar Bin Elius. Thanks to the great folks at [Binder](https://mybinder.org/) and [Google Colaboratory](https://colab.research.google.com/notebooks/intro.ipynb) for making this notebook interactive without you needing to download it or install [Jupyter](https://jupyter.org/) on your own device."
   ]
  }
 ],
 "metadata": {
  "kernelspec": {
   "display_name": "Python 3 (ipykernel)",
   "language": "python",
   "name": "python3"
  },
  "language_info": {
   "codemirror_mode": {
    "name": "ipython",
    "version": 3
   },
   "file_extension": ".py",
   "mimetype": "text/x-python",
   "name": "python",
   "nbconvert_exporter": "python",
   "pygments_lexer": "ipython3",
   "version": "3.7.11"
  }
 },
 "nbformat": 4,
 "nbformat_minor": 4
}
