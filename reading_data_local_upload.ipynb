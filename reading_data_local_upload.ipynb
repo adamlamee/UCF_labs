{
 "cells": [
  {
   "cell_type": "markdown",
   "metadata": {},
   "source": [
    "# Reading a data file from your computer  \n",
    "*Pandas* is a Python module (e.g., library of functions) for working with tabular data similar to a spreadsheet. An advantage is the ability to automate analyses in a way that spreadsheets require clicking and typing to repeat. Python can also handle significantly larger data sets than most spreadsheet software.  \n",
    "\n",
    "First, you'll need to *import* the pandas module to use its functions. If you forget, the code below with output errors when it doesn't recognize a function it's trying to access (because it wasn't imported). "
   ]
  },
  {
   "cell_type": "code",
   "execution_count": null,
   "metadata": {},
   "outputs": [],
   "source": [
    "# you only need to run this once, but it doesn't break anyting to run it multiple times\n",
    "import pandas as pd"
   ]
  },
  {
   "cell_type": "markdown",
   "metadata": {},
   "source": [
    "Pandas will need you data file to have column headings along with your data. It's easier if those column heading are in the first row, but you'll see how to get around that below.  \n",
    "\n",
    "Uploading a file to a Google Colab notebook only lasts for the duration of running this notebook, so you'll need to upload the file again if you close the notebook and come back to it later.  \n",
    "\n",
    "- Click the folder icon in left menu. It's below the {x}.\n",
    "- Click the upload icon at top of that window.\n",
    "- Wait until you see the filename appear in the directory on the left. Then, \n",
    "- Right-click on the filename or click the 3 vertical dots at the end of the filename to \"copy path\"\n",
    "- Paste that path as the URL in the [read_excel( ) function](https://pandas.pydata.org/docs/reference/api/pandas.read_excel.html) below with *single quotes* around it.  \n",
    "\n",
    "To read in a **.xlsx** file, see the example below.  "
   ]
  },
  {
   "cell_type": "code",
   "execution_count": null,
   "metadata": {},
   "outputs": [],
   "source": [
    "# this reads in a file you just uploaded\n",
    "data = pd.read_excel('paste_the_URL_to_your_file_here', skiprows=0)\n",
    "\n",
    "# the .head() command gives a preview of the first few rows of the dataframe\n",
    "data.head(3)"
   ]
  },
  {
   "cell_type": "markdown",
   "metadata": {},
   "source": [
    "How does the preview of the dataframe look? It should show column headings with a few rows of the data. If you got an error, things to check are:  \n",
    "- Did you import pandas first?  \n",
    "- Does the URL you pasted into the read function have single quotes around it? It should look like pd.read_excel('URL')  \n",
    "- Are you trying to read in a .xlsx file? For .csv files, there's another example below.  \n",
    "\n",
    "\n",
    "If there isn't an error but the dataframe doesn't start with the column headings, adjust the *skiprows* parameter and run the code again until it looks right. If you have a .csv file, use the [.read_csv( ) function](https://pandas.pydata.org/docs/reference/api/pandas.read_csv.html) instead. Here's an example."
   ]
  },
  {
   "cell_type": "code",
   "execution_count": null,
   "metadata": {},
   "outputs": [],
   "source": [
    "# this reads in a file you just uploaded\n",
    "data = pd.read_csv('paste_the_URL_to_your_file_here', skiprows=0)\n",
    "\n",
    "# the .head() command gives a preview of the first few rows of the dataframe\n",
    "data.head(3)"
   ]
  },
  {
   "cell_type": "markdown",
   "metadata": {},
   "source": [
    "<hr/>  \n",
    "\n",
    "# Credits\n",
    "This notebook was written by [Adam LaMee](http://www.adamlamee.com). Thanks to the great folks at [Binder](https://mybinder.org/) and [Google Colaboratory](https://colab.research.google.com/notebooks/intro.ipynb) for making this notebook interactive without you needing to download it or install [Jupyter](https://jupyter.org/) on your own device."
   ]
  }
 ],
 "metadata": {
  "kernelspec": {
   "display_name": "Python 3 (ipykernel)",
   "language": "python",
   "name": "python3"
  },
  "language_info": {
   "codemirror_mode": {
    "name": "ipython",
    "version": 3
   },
   "file_extension": ".py",
   "mimetype": "text/x-python",
   "name": "python",
   "nbconvert_exporter": "python",
   "pygments_lexer": "ipython3",
   "version": "3.9.7"
  }
 },
 "nbformat": 4,
 "nbformat_minor": 4
}
