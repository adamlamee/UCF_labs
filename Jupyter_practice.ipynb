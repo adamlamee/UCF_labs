{
 "cells": [
  {
   "cell_type": "markdown",
   "metadata": {},
   "source": [
    "# Using Jupyter and Python for data analysis\n",
    "This is a *Jupyter notebook* with blocks of code called *cells*. You can press shift+ENTER to *run* a cell and go on to the next one. You can also edit the code and run it again to see how the output changes.\n",
    "\n",
    "If you're running this on Google Colab, you'll see a popup window the first time saying \"Warning\". Don't worry, it's safe. Click on \"run anyway\".\n",
    "\n",
    "Try running the following cells by pressing SHIFT and ENTER (at the same time) for each one.\n",
    "\n",
    "*You won't hurt anything by experimenting. If you break it, close the tab and open the activity again to start over.*  \n",
    "\n",
    "## Part 1: Running Python code"
   ]
  },
  {
   "cell_type": "code",
   "execution_count": null,
   "metadata": {},
   "outputs": [],
   "source": [
    "# Click on this cell. Then, press SHIFT and ENTER at the same time.\n",
    "2+2"
   ]
  },
  {
   "cell_type": "code",
   "execution_count": null,
   "metadata": {},
   "outputs": [],
   "source": [
    "# This is called a \"comment\". It's a message to other humans.\n",
    "# Starting with # tells the program not to read this line.\n",
    "# the program will run the next line since it doesn't start with #\n",
    "5-4"
   ]
  },
  {
   "cell_type": "code",
   "execution_count": null,
   "metadata": {},
   "outputs": [],
   "source": [
    "# the following lines define variables called \"a\" and \"b\"\n",
    "a = 4\n",
    "b = 3\n",
    "\n",
    "# the next line shows us what a plus b is.\n",
    "a+b"
   ]
  },
  {
   "cell_type": "code",
   "execution_count": null,
   "metadata": {},
   "outputs": [],
   "source": [
    "c = a*a # this line calculates a times a and saves the result as a varialbe called \"c\"\n",
    "c       # this line tells the program to show us what \"c\" is."
   ]
  },
  {
   "cell_type": "code",
   "execution_count": null,
   "metadata": {},
   "outputs": [],
   "source": [
    "# this coding language is called \"python\"\n",
    "d = \"I just coded in Python\" # yep you did!\n",
    "d"
   ]
  },
  {
   "cell_type": "markdown",
   "metadata": {
    "collapsed": true
   },
   "source": [
    "Try editing some of the code above.\n",
    "- Edit some code to do a different calculation\n",
    "- Add a comment somehwere\n",
    "\n",
    "You can run a cell again by pressing shift+ENTER. "
   ]
  },
  {
   "cell_type": "code",
   "execution_count": null,
   "metadata": {},
   "outputs": [],
   "source": [
    "# Can you figure out what ** does?\n",
    "e = b**a\n",
    "e"
   ]
  },
  {
   "cell_type": "markdown",
   "metadata": {},
   "source": [
    "## Part 2: Markdown\n",
    "The cells above are *code cells* that let you to run code. This is a *markdown cell* that contains markdown text. That's text that isn't read as Python code. Instead, you can format markdown text to look nice.\n",
    "\n",
    "Double-click on this cell to see the markdown text underneath. Running a markdown cell turns it into pretty, formatted text.\n",
    "- here's a bullet point\n",
    "- and another list item in *italics* and **bold**.\n",
    "- this is a hyperlink to [my favorite thing on the web](https://www.youtube.com/watch?v=dQw4w9WgXcQ)\n",
    "- You can even embed images  \n",
    "![cute kitten](https://github.com/adamlamee/CODINGinK12/raw/master/notebooks/1dayoldkitten.png)  \n",
    "\n",
    "### Try this\n",
    "Double-click on this cell to see the code that formats this text. Make a few edits and press shift+ENTER to see the changes.\n",
    "\n",
    "Read more about [formatting the markdown text](https://help.github.com/articles/basic-writing-and-formatting-syntax/) in a cell, like this one, or go to Help > Markdown > Basic Writing and Formatting Text.  \n",
    "\n",
    "## Part 3: Analyzing stellar data  \n",
    "Now you'll analyze the properties of over 100,000 stars. "
   ]
  },
  {
   "cell_type": "code",
   "execution_count": null,
   "metadata": {},
   "outputs": [],
   "source": [
    "# Import modules that contain functions we need\n",
    "import pandas as pd\n",
    "import numpy as np\n",
    "import matplotlib.pyplot as plt"
   ]
  },
  {
   "cell_type": "code",
   "execution_count": null,
   "metadata": {},
   "outputs": [],
   "source": [
    "# Read in data that will be used for the calculations.\n",
    "#data = pd.read_csv(\"https://github.com/adamlamee/CODINGinK12/raw/master/data/stars.csv\")\n",
    "data = pd.read_csv(\"https://github.com/adamlamee/UCF_labs/raw/main/data/stars.csv\")"
   ]
  },
  {
   "cell_type": "code",
   "execution_count": null,
   "metadata": {},
   "outputs": [],
   "source": [
    "# this shows the first 5 rows of the data set\n",
    "data.head(5)"
   ]
  },
  {
   "cell_type": "code",
   "execution_count": null,
   "metadata": {},
   "outputs": [],
   "source": [
    "# The .shape command displays the (number of rows , number of columns) in a file.\n",
    "data.shape"
   ]
  },
  {
   "cell_type": "markdown",
   "metadata": {},
   "source": [
    "### Self-check\n",
    "- In the table above, what do you think the column headings represent? You can check on the [Astronomy Nexus page](http://www.astronexus.com/hyg) that collected the data.\n",
    "- How many stars are included in this data set? See the data.shape line of code above.\n",
    "\n",
    "When you're ready, run the code below.  "
   ]
  },
  {
   "cell_type": "code",
   "execution_count": null,
   "metadata": {},
   "outputs": [],
   "source": [
    "# plots a histogram of one column\n",
    "plt.hist(data['dist'])\n",
    "plt.title(\"Any idea for a title?\")\n",
    "plt.xlabel(\"label me?\")\n",
    "plt.ylabel(\"me, too\");\n",
    "plt.show()"
   ]
  },
  {
   "cell_type": "markdown",
   "metadata": {},
   "source": [
    "### Self-check questions\n",
    "Use the graph above to answer the following questions:\n",
    "- Which column is shown in the histogram? See the plt.hist line above.\n",
    "- What does that shape of the graph say about the stars in this data set? On a histogram, tall bars mean more values in that range. The introduction to the [histogram Wikipedia page](https://en.wikipedia.org/wiki/Histogram) gives a brief explanation.\n",
    "- Give some better labels to the graph and run the code again to see how they look.\n",
    "    - the horizontal axis shows distance values in parsecs.\n",
    "    - the vertical axis of a histogram is often labeled \"number of values\"  (or sometimes \"frequency\" or \"counts) since that shows the number of numerical values that fell into each bin.  \n",
    "\n",
    "When you're ready, run the code below.  "
   ]
  },
  {
   "cell_type": "code",
   "execution_count": null,
   "metadata": {},
   "outputs": [],
   "source": [
    "# draws a scatter plot\n",
    "plt.scatter(data['temp'], data['absmag'], s=1, alpha=0.2, edgecolors='none')\n",
    "plt.xlim(2000,15000)\n",
    "plt.ylim(20,-15)\n",
    "plt.title(\"Any idea for a title?\")\n",
    "plt.ylabel(\"Absolute Magnitude\")\n",
    "plt.xlabel(\"Temperature (K)\");"
   ]
  },
  {
   "cell_type": "markdown",
   "metadata": {},
   "source": [
    "### Self-check\n",
    "Use the graph above to answer the following questions:\n",
    "- What patterns do you see in the graph?\n",
    "- The y-axis shows brighter stars at the top and dimmer stars toward the bottom. What's strange about the **absolute magnitude** scale?\n",
    "- Some stars aren't very hot, but they're very bright because they're so big (called *giants* and *super giants*). Where are those on the graph?\n",
    "- Other stars are really hot, but they're really small so not very bright (called *white dwarfs*). How could that happen? Where might you find them on the graph?\n",
    "\n",
    "When you're ready, run the code below."
   ]
  },
  {
   "cell_type": "code",
   "execution_count": null,
   "metadata": {},
   "outputs": [],
   "source": [
    "# These are the abbreviations for all the constellations\n",
    "data['con'].sort_values().unique()"
   ]
  },
  {
   "cell_type": "code",
   "execution_count": null,
   "metadata": {},
   "outputs": [],
   "source": [
    "# This filters the data using based on the \"con\" column\n",
    "constellation = data.query('con == \"Vir\"') # makes a new data set called \"constellation\"\n",
    "constellation = constellation.sort_values('mag').head(10) # only saves the 10 brightest stars in the data set\n",
    "\n",
    "# plots the constellation's stars in red over the big graph of all stars\n",
    "plt.scatter(data['temp'], data['absmag'], s=1, alpha=0.2, edgecolors='none')\n",
    "plt.scatter(constellation['temp'], constellation['absmag'], color='red', edgecolors='none')\n",
    "plt.xlim(2000,15000)\n",
    "plt.ylim(20,-15)\n",
    "plt.title(\"Types of stars in a constellation\")\n",
    "plt.ylabel(\"Absolute Magnitude\")\n",
    "plt.xlabel(\"Temperature (K)\")\n",
    "plt.show()"
   ]
  },
  {
   "cell_type": "markdown",
   "metadata": {},
   "source": [
    "### Self-check\n",
    "The graph above shows the ten brightest stars in a constellation (as red points) on the entire data set of stars.  \n",
    "- Using the graphic below, which types of stars are in Virgo?\n",
    "- The code above shows the abbreviation for each constellation, then filters the data set for just the stars in that constellation (called a *query*). Try plotting a different constellation. Is it made of different types of stars?\n",
    "\n",
    "![HR diagram](https://raw.githubusercontent.com/adamlamee/CODINGinK12/master/data/H-R-diagram.jpeg)  \n",
    "\n",
    "---\n",
    "## Saving Your Work\n",
    "This is running on a Google server on a distant planet and deletes what you've done when you close this tab. To save your work for later use or analysis you have a few options:\n",
    "- File > \"Save a copy in Drive\" will save it to you Google Drive in a folder called \"Collaboratory\". You can run it later from there.  \n",
    "- File > \"Download .ipynb\" to save to your computer (and run with Jupyter software later)\n",
    "- File > Print to ... um ... print.\n",
    "- Save an image to your computer of a graph or chart, right-click on it and select Save Image as ...\n",
    "\n",
    "## Credits\n",
    "This notebook was designed by [Adam LaMee](https://adamlamee.github.io/). Thanks to the great folks at [Binder](https://mybinder.org/) and [Google Colaboratory](https://colab.research.google.com/notebooks/intro.ipynb) for making this notebook interactive without you needing to download it or install [Jupyter](https://jupyter.org/) on your own device. This document is shared with a [CC BY-NC-SA license](https://creativecommons.org/licenses/by-nc-sa/4.0/). This license allows reusers to distribute, remix, adapt, and build upon the material in any medium or format for noncommercial purposes only, and only so long as attribution is given to the creator. If you remix, adapt, or build upon the material, you must license the modified material under identical terms.  "
   ]
  }
 ],
 "metadata": {
  "kernelspec": {
   "display_name": "Python 3 (ipykernel)",
   "language": "python",
   "name": "python3"
  },
  "language_info": {
   "codemirror_mode": {
    "name": "ipython",
    "version": 3
   },
   "file_extension": ".py",
   "mimetype": "text/x-python",
   "name": "python",
   "nbconvert_exporter": "python",
   "pygments_lexer": "ipython3",
   "version": "3.9.15"
  }
 },
 "nbformat": 4,
 "nbformat_minor": 1
}
