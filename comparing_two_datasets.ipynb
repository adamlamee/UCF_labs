{
 "cells": [
  {
   "cell_type": "markdown",
   "metadata": {},
   "source": [
    "If you're running this in Google Colab, you can click \"Copy to Drive\" (above &#8593;) or go to **File > Save a Copy in Drive** so you'll have your own version to work on. That requires a Google login.  \n",
    "<hr/>\n",
    "\n",
    "# Comparing Two Data Sets     \n",
    "We'll use Dr. Natasha Holmes's *Statistics Summary* (linked in the course website) as a guide for how to analyze data in this course. This notebook is a template for using python to do the calculations in section II *Statistics for Repeated Measurements with Statistical Variation* and section III *Making Comparisons*. If you need to start over from scratch, open a [clean copy of this activity](https://github.com/adamlamee/UCF_labs/blob/main/README.md). If you need a refresher on how to execute this notebook, try the [intro activity](https://github.com/adamlamee/UCF_labs/blob/main/README.md).  \n",
    "\n",
    "Experienced programmers often copy and paste code from their previous work or trusted sources. That can make a project go faster and reduce the need to look up every bit of syntax. Below is the **pseudocode** for performing a Holmes t' analysis on two sets of data. You'll need to replace the pseudocode with python code to perform each task. Look to the [Useful bits of code](https://github.com/adamlamee/UCF_labs/blob/main/README.md) where you found this notebook posted. Your previous work in this course (or others) may be helpful, too.  "
   ]
  },
  {
   "cell_type": "code",
   "execution_count": null,
   "metadata": {},
   "outputs": [],
   "source": [
    "# import modules needed"
   ]
  },
  {
   "cell_type": "code",
   "execution_count": null,
   "metadata": {},
   "outputs": [],
   "source": [
    "# read in the two sets of data\n",
    "# if data need to be cropped, do that in a spreadsheet first\n",
    "# give the dataframes different names when they get read in"
   ]
  },
  {
   "cell_type": "code",
   "execution_count": null,
   "metadata": {},
   "outputs": [],
   "source": [
    "# plot the two sets of data on a histogram"
   ]
  },
  {
   "cell_type": "code",
   "execution_count": null,
   "metadata": {},
   "outputs": [],
   "source": [
    "# store the relevant quantities as varibles\n",
    "# use unique variable names to help make the calculations easier to read and check"
   ]
  },
  {
   "cell_type": "code",
   "execution_count": null,
   "metadata": {},
   "outputs": [],
   "source": [
    "# calculate a Holmes t' "
   ]
  },
  {
   "cell_type": "markdown",
   "metadata": {},
   "source": [
    "<hr/>  \n",
    "\n",
    "# Credits\n",
    "This notebook was written by [Adam LaMee](http://www.adamlamee.com) with contributions by UCF graduate student Ifthakar Bin Elius. Thanks to the great folks at [Binder](https://mybinder.org/) and [Google Colaboratory](https://colab.research.google.com/notebooks/intro.ipynb) for making this notebook interactive without you needing to download it or install [Jupyter](https://jupyter.org/) on your own device."
   ]
  }
 ],
 "metadata": {
  "kernelspec": {
   "display_name": "Python 3 (ipykernel)",
   "language": "python",
   "name": "python3"
  },
  "language_info": {
   "codemirror_mode": {
    "name": "ipython",
    "version": 3
   },
   "file_extension": ".py",
   "mimetype": "text/x-python",
   "name": "python",
   "nbconvert_exporter": "python",
   "pygments_lexer": "ipython3",
   "version": "3.9.7"
  }
 },
 "nbformat": 4,
 "nbformat_minor": 4
}
